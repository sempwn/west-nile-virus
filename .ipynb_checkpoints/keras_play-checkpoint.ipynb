{
 "cells": [
  {
   "cell_type": "markdown",
   "metadata": {},
   "source": [
    "# Play with keras model"
   ]
  },
  {
   "cell_type": "code",
   "execution_count": 27,
   "metadata": {
    "collapsed": false
   },
   "outputs": [
    {
     "name": "stdout",
     "output_type": "stream",
     "text": [
      "Populating the interactive namespace from numpy and matplotlib\n"
     ]
    },
    {
     "name": "stderr",
     "output_type": "stream",
     "text": [
      "//anaconda/lib/python2.7/site-packages/IPython/core/magics/pylab.py:161: UserWarning: pylab import has clobbered these variables: ['f']\n",
      "`%matplotlib` prevents importing * from pylab and numpy\n",
      "  \"\\n`%matplotlib` prevents importing * from pylab and numpy\"\n"
     ]
    },
    {
     "data": {
      "text/plain": [
       "'\\n    This demonstrates how to reach a 0.80 ROC AUC score (local 4-fold validation)\\n    in the Kaggle Nile virus prediction challenge. \\n\\n    The model trains in a few seconds on CPU.\\n'"
      ]
     },
     "execution_count": 27,
     "metadata": {},
     "output_type": "execute_result"
    }
   ],
   "source": [
    "%pylab inline\n",
    "import numpy as np\n",
    "import csv\n",
    "from keras.models import Sequential\n",
    "from keras.layers.core import Dense, Dropout, Activation\n",
    "from keras.utils import np_utils\n",
    "from sklearn import metrics\n",
    "from sklearn.cross_validation import KFold\n",
    "from sklearn.preprocessing import StandardScaler\n",
    "from preprocess import loadPreData\n",
    "\n",
    "'''\n",
    "    This demonstrates how to reach a 0.80 ROC AUC score (local 4-fold validation)\n",
    "    in the Kaggle Nile virus prediction challenge. \n",
    "\n",
    "    The model trains in a few seconds on CPU.\n",
    "'''"
   ]
  },
  {
   "cell_type": "code",
   "execution_count": 4,
   "metadata": {
    "collapsed": false
   },
   "outputs": [
    {
     "name": "stdout",
     "output_type": "stream",
     "text": [
      "Index([u'Address', u'Species', u'Block', u'Street', u'Trap',\n",
      "       u'AddressNumberAndStreet', u'Latitude', u'Longitude',\n",
      "       u'AddressAccuracy', u'NumMosquitos', u'WnvPresent'],\n",
      "      dtype='object')\n",
      "Index([u'Id', u'Address', u'Species', u'Block', u'Street', u'Trap',\n",
      "       u'AddressNumberAndStreet', u'Latitude', u'Longitude',\n",
      "       u'AddressAccuracy'],\n",
      "      dtype='object')\n"
     ]
    }
   ],
   "source": [
    "data = loadPreData()"
   ]
  },
  {
   "cell_type": "code",
   "execution_count": 43,
   "metadata": {
    "collapsed": true
   },
   "outputs": [],
   "source": [
    "X = data['train'].get_values().astype(float)\n",
    "y = data['labels']"
   ]
  },
  {
   "cell_type": "code",
   "execution_count": 44,
   "metadata": {
    "collapsed": true
   },
   "outputs": [],
   "source": [
    "input_dim = X.shape[1]\n",
    "output_dim = 1"
   ]
  },
  {
   "cell_type": "code",
   "execution_count": 47,
   "metadata": {
    "collapsed": false
   },
   "outputs": [],
   "source": [
    "def scoreAUC(y,probs):\n",
    "    ps = np.linspace(0.,1.,num=100)\n",
    "    prs = []\n",
    "    nrs = []\n",
    "    for p in ps:\n",
    "        preds = probs[:,0]<p\n",
    "        pr = np.sum((y & preds))/float(np.sum(y))\n",
    "        nr = np.sum((1-y & 1-preds))/float(np.sum(1-y))\n",
    "        nrs.append(nr)\n",
    "        prs.append(pr)\n",
    "    xs = 1-np.array(nrs)\n",
    "    ys = np.array(prs)\n",
    "    dxs = xs[1:] - xs[:-1]\n",
    "    ays = .5*(ys[1:] + ys[:-1])\n",
    "    auc = np.sum(ays*dxs)\n",
    "    return {'score':auc,'fpr':xs,'tpr':ys}"
   ]
  },
  {
   "cell_type": "code",
   "execution_count": 38,
   "metadata": {
    "collapsed": true
   },
   "outputs": [],
   "source": [
    "def build_model(input_dim, output_dim):\n",
    "    model = Sequential()\n",
    "    model.add(Dense(32, input_dim=input_dim))\n",
    "    model.add(Activation('relu'))\n",
    "    model.add(Dropout(0.5))\n",
    "\n",
    "    model.add(Dense(32))\n",
    "    model.add(Activation('relu'))\n",
    "    model.add(Dropout(0.5))\n",
    "\n",
    "    model.add(Dense(output_dim))\n",
    "\n",
    "    model.add(Activation('sigmoid'))\n",
    "\n",
    "    model.compile(loss='binary_crossentropy',\n",
    "              optimizer='rmsprop',\n",
    "              metrics=['accuracy'])\n",
    "    return model"
   ]
  },
  {
   "cell_type": "code",
   "execution_count": 42,
   "metadata": {
    "collapsed": false
   },
   "outputs": [],
   "source": [
    "def testModel():    \n",
    "    X = np.random.rand(5000,5)\n",
    "    y = (X[:,0]<0.5)*(X[:,1]<0.9)*(X[:,2]<0.85)\n",
    "    X_valid = np.random.rand(1000,5)\n",
    "    y_valid = (X_valid[:,0]<0.5)*(X_valid[:,1]<0.9)*(X_valid[:,2]<0.85)\n",
    "    model = build_model(5, 1)\n",
    "    model.fit(X, y, nb_epoch=10, batch_size=32, validation_data=(X_valid, y_valid), verbose=True)"
   ]
  },
  {
   "cell_type": "code",
   "execution_count": null,
   "metadata": {
    "collapsed": false
   },
   "outputs": [
    {
     "name": "stdout",
     "output_type": "stream",
     "text": [
      "------------------------------------------------------------\n",
      "('Fold', 0)\n",
      "------------------------------------------------------------\n",
      "Building model...\n",
      "Training model...\n",
      "Train on 7879 samples, validate on 2627 samples\n",
      "Epoch 1/5\n",
      "7879/7879 [==============================] - 1s - loss: 3.5659 - acc: 0.7701 - val_loss: 1.1351 - val_acc: 0.9296\n",
      "Epoch 2/5\n",
      "7879/7879 [==============================] - 0s - loss: 1.1490 - acc: 0.9265 - val_loss: 1.1351 - val_acc: 0.9296\n",
      "Epoch 3/5\n",
      "7879/7879 [==============================] - 0s - loss: 0.9396 - acc: 0.9402 - val_loss: 1.1351 - val_acc: 0.9296\n",
      "Epoch 4/5\n",
      "7879/7879 [==============================] - 0s - loss: 0.8305 - acc: 0.9475 - val_loss: 1.1351 - val_acc: 0.9296\n",
      "Epoch 5/5\n",
      "7879/7879 [==============================] - 0s - loss: 0.8230 - acc: 0.9481 - val_loss: 1.1351 - val_acc: 0.9296\n",
      "('ROC:', 0.5)\n",
      "------------------------------------------------------------\n",
      "('Fold', 1)\n",
      "------------------------------------------------------------\n",
      "Building model...\n",
      "Training model...\n",
      "Train on 7879 samples, validate on 2627 samples\n",
      "Epoch 1/5\n",
      "7879/7879 [==============================] - 1s - loss: 1.8169 - acc: 0.8797 - val_loss: 0.3436 - val_acc: 0.9787\n",
      "Epoch 2/5\n",
      "7879/7879 [==============================] - 0s - loss: 1.0615 - acc: 0.9327 - val_loss: 0.3436 - val_acc: 0.9787\n",
      "Epoch 3/5\n",
      "7879/7879 [==============================] - 0s - loss: 1.0246 - acc: 0.9354 - val_loss: 0.3436 - val_acc: 0.9787\n",
      "Epoch 4/5\n",
      "7879/7879 [==============================] - 0s - loss: 1.0267 - acc: 0.9360 - val_loss: 0.3436 - val_acc: 0.9787\n",
      "Epoch 5/5\n",
      "7879/7879 [==============================] - 0s - loss: 1.0267 - acc: 0.9362 - val_loss: 0.3436 - val_acc: 0.9787\n",
      "('ROC:', 0.5)\n",
      "------------------------------------------------------------\n",
      "('Fold', 2)\n",
      "------------------------------------------------------------\n",
      "Building model...\n",
      "Training model...\n",
      "Train on 7880 samples, validate on 2626 samples\n",
      "Epoch 1/5\n",
      "7880/7880 [==============================] - 1s - loss: 2.0660 - acc: 0.8683 - val_loss: 0.3805 - val_acc: 0.9764\n",
      "Epoch 2/5\n",
      "7880/7880 [==============================] - 0s - loss: 1.1492 - acc: 0.9279 - val_loss: 0.3805 - val_acc: 0.9764\n",
      "Epoch 3/5\n",
      "7880/7880 [==============================] - 0s - loss: 1.0492 - acc: 0.9343 - val_loss: 0.3805 - val_acc: 0.9764\n",
      "Epoch 4/5\n",
      "7880/7880 [==============================] - 0s - loss: 1.0577 - acc: 0.9341 - val_loss: 0.3805 - val_acc: 0.9764\n",
      "Epoch 5/5\n",
      "7880/7880 [==============================] - 0s - loss: 1.0558 - acc: 0.9341 - val_loss: 0.3805 - val_acc: 0.9764\n",
      "('ROC:', 0.5)\n",
      "------------------------------------------------------------\n",
      "('Fold', 3)\n",
      "------------------------------------------------------------\n",
      "Building model...\n",
      "Training model...\n",
      "Train on 7880 samples, validate on 2626 samples\n",
      "Epoch 1/5\n",
      "7880/7880 [==============================] - 1s - loss: 1.7144 - acc: 0.8888 - val_loss: 1.5222 - val_acc: 0.9056\n",
      "Epoch 2/5\n",
      "7880/7880 [==============================] - 0s - loss: 0.7414 - acc: 0.9532 - val_loss: 1.5222 - val_acc: 0.9056\n",
      "Epoch 3/5\n",
      "7880/7880 [==============================] - 0s - loss: 0.6996 - acc: 0.9557 - val_loss: 1.5222 - val_acc: 0.9056\n",
      "Epoch 4/5\n",
      "7880/7880 [==============================] - 0s - loss: 0.6588 - acc: 0.9588 - val_loss: 1.5222 - val_acc: 0.9056\n",
      "Epoch 5/5\n",
      "7584/7880 [===========================>..] - ETA: 0s - loss: 0.6546 - acc: 0.9591"
     ]
    }
   ],
   "source": [
    "nb_folds = 4\n",
    "kfolds = KFold(len(y), nb_folds)\n",
    "av_roc = 0.\n",
    "f = 0\n",
    "for train, valid in kfolds:\n",
    "    print('---'*20)\n",
    "    print('Fold', f)\n",
    "    print('---'*20)\n",
    "    f += 1\n",
    "    X_train = X[train]\n",
    "    X_valid = X[valid]\n",
    "    #Y_train = Y[train]\n",
    "    y_train = y[train]\n",
    "    #Y_valid = Y[valid]\n",
    "    y_valid = y[valid]\n",
    "\n",
    "    print(\"Building model...\")\n",
    "    model = build_model(input_dim, output_dim)\n",
    "\n",
    "    print(\"Training model...\")\n",
    "\n",
    "    model.fit(X_train, y_train, nb_epoch=5, batch_size=32, validation_data=(X_valid, y_valid), verbose=True)\n",
    "    valid_preds = model.predict_proba(X_valid, verbose=0)\n",
    "    roc = metrics.roc_auc_score(y_valid, valid_preds)\n",
    "    print(\"ROC:\", roc)\n",
    "    av_roc += roc\n",
    "\n",
    "print('Average ROC:', av_roc/nb_folds)"
   ]
  },
  {
   "cell_type": "code",
   "execution_count": null,
   "metadata": {
    "collapsed": true
   },
   "outputs": [],
   "source": []
  },
  {
   "cell_type": "code",
   "execution_count": 22,
   "metadata": {
    "collapsed": false
   },
   "outputs": [
    {
     "data": {
      "text/plain": [
       "array([[ 1.],\n",
       "       [ 1.],\n",
       "       [ 1.],\n",
       "       ..., \n",
       "       [ 1.],\n",
       "       [ 1.],\n",
       "       [ 1.]], dtype=float32)"
      ]
     },
     "execution_count": 22,
     "metadata": {},
     "output_type": "execute_result"
    }
   ],
   "source": []
  },
  {
   "cell_type": "code",
   "execution_count": null,
   "metadata": {
    "collapsed": true
   },
   "outputs": [],
   "source": []
  }
 ],
 "metadata": {
  "kernelspec": {
   "display_name": "Python [conda root]",
   "language": "python",
   "name": "conda-root-py"
  },
  "language_info": {
   "codemirror_mode": {
    "name": "ipython",
    "version": 2
   },
   "file_extension": ".py",
   "mimetype": "text/x-python",
   "name": "python",
   "nbconvert_exporter": "python",
   "pygments_lexer": "ipython2",
   "version": "2.7.12"
  }
 },
 "nbformat": 4,
 "nbformat_minor": 2
}
