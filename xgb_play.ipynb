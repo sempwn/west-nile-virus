{
 "cells": [
  {
   "cell_type": "markdown",
   "metadata": {},
   "source": [
    "# Test xgb code"
   ]
  },
  {
   "cell_type": "code",
   "execution_count": 1,
   "metadata": {
    "collapsed": false
   },
   "outputs": [
    {
     "name": "stdout",
     "output_type": "stream",
     "text": [
      "Populating the interactive namespace from numpy and matplotlib\n"
     ]
    },
    {
     "name": "stderr",
     "output_type": "stream",
     "text": [
      "//anaconda/lib/python2.7/site-packages/sklearn/cross_validation.py:44: DeprecationWarning: This module was deprecated in version 0.18 in favor of the model_selection module into which all the refactored classes and functions are moved. Also note that the interface of the new CV iterators are different from that of this module. This module will be removed in 0.20.\n",
      "  \"This module will be removed in 0.20.\", DeprecationWarning)\n"
     ]
    }
   ],
   "source": [
    "%pylab inline\n",
    "%load_ext autoreload\n",
    "%autoreload 2\n",
    "import os\n",
    "import pandas as pd\n",
    "from preprocess import loadPreData\n",
    "from sklearn.model_selection import train_test_split\n",
    "from sklearn.metrics import accuracy_score\n",
    "from xgboost import XGBClassifier\n",
    "from sklearn.cross_validation import KFold\n",
    "subm_folder = './submissions'"
   ]
  },
  {
   "cell_type": "code",
   "execution_count": 2,
   "metadata": {
    "collapsed": false
   },
   "outputs": [
    {
     "name": "stdout",
     "output_type": "stream",
     "text": [
      "Index([u'Address', u'Species', u'Block', u'Street', u'Trap',\n",
      "       u'AddressNumberAndStreet', u'Latitude', u'Longitude',\n",
      "       u'AddressAccuracy', u'NumMosquitos', u'WnvPresent'],\n",
      "      dtype='object')\n",
      "Index([u'Id', u'Address', u'Species', u'Block', u'Street', u'Trap',\n",
      "       u'AddressNumberAndStreet', u'Latitude', u'Longitude',\n",
      "       u'AddressAccuracy'],\n",
      "      dtype='object')\n"
     ]
    }
   ],
   "source": [
    "data = loadPreData()"
   ]
  },
  {
   "cell_type": "code",
   "execution_count": 3,
   "metadata": {
    "collapsed": false
   },
   "outputs": [
    {
     "data": {
      "text/plain": [
       "Index([u'Species', u'Block', u'Street', u'Trap', u'Latitude', u'Longitude',\n",
       "       u'AddressAccuracy', u'month', u'day', u'Lat_int', u'Long_int',\n",
       "       u'Tmax_x', u'Tmin_x', u'Tavg_x', u'Depart_x', u'DewPoint_x',\n",
       "       u'WetBulb_x', u'Heat_x', u'Cool_x', u'Sunrise_x', u'Sunset_x',\n",
       "       u'Depth_x', u'SnowFall_x', u'PrecipTotal_x', u'StnPressure_x',\n",
       "       u'SeaLevel_x', u'ResultSpeed_x', u'ResultDir_x', u'AvgSpeed_x',\n",
       "       u'Tmax_y', u'Tmin_y', u'Tavg_y', u'DewPoint_y', u'WetBulb_y', u'Heat_y',\n",
       "       u'Cool_y', u'PrecipTotal_y', u'StnPressure_y', u'SeaLevel_y',\n",
       "       u'ResultSpeed_y', u'ResultDir_y', u'AvgSpeed_y', u'DateCount'],\n",
       "      dtype='object')"
      ]
     },
     "execution_count": 3,
     "metadata": {},
     "output_type": "execute_result"
    }
   ],
   "source": [
    "data['train'].columns"
   ]
  },
  {
   "cell_type": "code",
   "execution_count": 4,
   "metadata": {
    "collapsed": false
   },
   "outputs": [],
   "source": [
    "X = data['train'].get_values().astype(float)\n",
    "Y = data['labels']"
   ]
  },
  {
   "cell_type": "markdown",
   "metadata": {},
   "source": [
    "### Split data into train and validation set"
   ]
  },
  {
   "cell_type": "code",
   "execution_count": 5,
   "metadata": {
    "collapsed": true
   },
   "outputs": [],
   "source": [
    "# split data into train and test sets\n",
    "seed = 7\n",
    "test_size = 0.1\n",
    "X_train, X_test, y_train, y_test = train_test_split(X, Y, test_size=test_size, random_state=seed)"
   ]
  },
  {
   "cell_type": "markdown",
   "metadata": {},
   "source": [
    "### Train model"
   ]
  },
  {
   "cell_type": "code",
   "execution_count": 6,
   "metadata": {
    "collapsed": false
   },
   "outputs": [
    {
     "data": {
      "text/plain": [
       "XGBClassifier(base_score=0.5, colsample_bylevel=1, colsample_bytree=1,\n",
       "       gamma=0, learning_rate=0.1, max_delta_step=0, max_depth=3,\n",
       "       min_child_weight=1, missing=None, n_estimators=100, nthread=-1,\n",
       "       objective='binary:logistic', reg_alpha=0, reg_lambda=1,\n",
       "       scale_pos_weight=1, seed=0, silent=True, subsample=1)"
      ]
     },
     "execution_count": 6,
     "metadata": {},
     "output_type": "execute_result"
    }
   ],
   "source": [
    "# fit model \n",
    "model = XGBClassifier()\n",
    "model.fit(X_train, y_train)"
   ]
  },
  {
   "cell_type": "code",
   "execution_count": 7,
   "metadata": {
    "collapsed": false
   },
   "outputs": [],
   "source": [
    "preds = model.predict(X_test)"
   ]
  },
  {
   "cell_type": "markdown",
   "metadata": {},
   "source": [
    "### Get accuracy on validation data"
   ]
  },
  {
   "cell_type": "code",
   "execution_count": 8,
   "metadata": {
    "collapsed": false
   },
   "outputs": [
    {
     "name": "stdout",
     "output_type": "stream",
     "text": [
      "Accuracy: 94.20%\n"
     ]
    }
   ],
   "source": [
    "# evaluate predictions\n",
    "accuracy = accuracy_score(y_test, preds)\n",
    "print(\"Accuracy: %.2f%%\" % (accuracy * 100.0))"
   ]
  },
  {
   "cell_type": "markdown",
   "metadata": {},
   "source": [
    "## Plot AUC"
   ]
  },
  {
   "cell_type": "code",
   "execution_count": 9,
   "metadata": {
    "collapsed": false
   },
   "outputs": [],
   "source": [
    "def scoreAUC(y,probs):\n",
    "    ps = np.linspace(0.,1.,num=100)\n",
    "    prs = []\n",
    "    nrs = []\n",
    "    for p in ps:\n",
    "        preds = probs[:,0]<p\n",
    "        pr = np.sum((y & preds))/float(np.sum(y))\n",
    "        nr = np.sum((1-y & 1-preds))/float(np.sum(1-y))\n",
    "        nrs.append(nr)\n",
    "        prs.append(pr)\n",
    "    xs = 1-np.array(nrs)\n",
    "    ys = np.array(prs)\n",
    "    dxs = xs[1:] - xs[:-1]\n",
    "    ays = .5*(ys[1:] + ys[:-1])\n",
    "    auc = np.sum(ays*dxs)\n",
    "    return {'score':auc,'fpr':xs,'tpr':ys}"
   ]
  },
  {
   "cell_type": "code",
   "execution_count": 15,
   "metadata": {
    "collapsed": false
   },
   "outputs": [
    {
     "data": {
      "image/png": "[encoded data removed]",
      "text/plain": [
       "<matplotlib.figure.Figure at 0x1040bad50>"
      ]
     },
     "metadata": {},
     "output_type": "display_data"
    }
   ],
   "source": [
    "probs = model.predict_proba(X_train)\n",
    "auc = scoreAUC(y_train,probs)\n",
    "plt.plot(auc['fpr'],auc['tpr'],label='Train');\n",
    "\n",
    "probs = model.predict_proba(X_test)\n",
    "auc = scoreAUC(y_test,probs)\n",
    "plt.plot(auc['fpr'],auc['tpr'],label='Validation');\n",
    "\n",
    "plt.legend();\n",
    "\n",
    "plt.plot([0,1.],[0,1.],'k--');\n",
    "plt.xlabel('False positive rate');\n",
    "plt.ylabel('True positive rate');\n",
    "\n",
    "\n",
    "plt.title('AUC: {:.3f}'.format(auc['score']));"
   ]
  },
  {
   "cell_type": "code",
   "execution_count": 11,
   "metadata": {
    "collapsed": false
   },
   "outputs": [],
   "source": [
    "X_sub = data['test'].get_values()"
   ]
  },
  {
   "cell_type": "code",
   "execution_count": 12,
   "metadata": {
    "collapsed": true
   },
   "outputs": [],
   "source": [
    "probs = model.predict_proba(X_sub)"
   ]
  },
  {
   "cell_type": "code",
   "execution_count": 13,
   "metadata": {
    "collapsed": false
   },
   "outputs": [],
   "source": [
    "#prepare submission\n",
    "ss = pd.DataFrame(columns=['Id','WnvPresent'])\n",
    "ss['WnvPresent'] = pd.Series(probs[:,1])\n",
    "ss['Id'] = data['test'].index + 1\n",
    "ss.to_csv(os.path.join(subm_folder, 'xgb_submission.csv'), index=False)"
   ]
  },
  {
   "cell_type": "markdown",
   "metadata": {},
   "source": [
    "Produces score of 0.76064 so around 390th place"
   ]
  },
  {
   "cell_type": "markdown",
   "metadata": {},
   "source": [
    "## xgb using Kfolds"
   ]
  },
  {
   "cell_type": "code",
   "execution_count": 109,
   "metadata": {
    "collapsed": true
   },
   "outputs": [],
   "source": [
    "X = data['train'].get_values().astype(float)\n",
    "Y = data['labels']"
   ]
  },
  {
   "cell_type": "code",
   "execution_count": 112,
   "metadata": {
    "collapsed": false
   },
   "outputs": [],
   "source": [
    "nb_folds = 4\n",
    "kfolds = KFold(len(Y), nb_folds)"
   ]
  },
  {
   "cell_type": "code",
   "execution_count": 133,
   "metadata": {
    "collapsed": false
   },
   "outputs": [
    {
     "name": "stdout",
     "output_type": "stream",
     "text": [
      "------------------------------------------------------------\n",
      "('Fold', 0)\n",
      "------------------------------------------------------------\n",
      "Building model...\n",
      "Training model...\n",
      "AUC : 0.76204927286\n",
      "------------------------------------------------------------\n",
      "('Fold', 1)\n",
      "------------------------------------------------------------\n",
      "Building model...\n",
      "Training model...\n",
      "AUC : 0.771135467022\n",
      "------------------------------------------------------------\n",
      "('Fold', 2)\n",
      "------------------------------------------------------------\n",
      "Building model...\n",
      "Training model...\n",
      "AUC : 0.785425368628\n",
      "------------------------------------------------------------\n",
      "('Fold', 3)\n",
      "------------------------------------------------------------\n",
      "Building model...\n",
      "Training model...\n",
      "AUC : 0.758053494398\n"
     ]
    }
   ],
   "source": [
    "av_roc = 0.\n",
    "f = 0\n",
    "\n",
    "fold_probs = []\n",
    "aucs = []\n",
    "for train, valid in kfolds:\n",
    "    print('---'*20)\n",
    "    print('Fold', f)\n",
    "    print('---'*20)\n",
    "    f += 1\n",
    "    X_train = X[train]\n",
    "    X_valid = X[valid]\n",
    "    Y_train = Y[train]\n",
    "    Y_valid = Y[valid]\n",
    "\n",
    "\n",
    "    print(\"Building model...\")\n",
    "    model = XGBClassifier()\n",
    "\n",
    "    print(\"Training model...\")\n",
    "    \n",
    "    model.fit(X_train, Y_train)\n",
    "    probs = model.predict_proba(X_valid)\n",
    "    auc = scoreAUC(Y_valid,probs)\n",
    "    print 'AUC : {}'.format(auc['score'])\n",
    "    \n",
    "    fold_prob = model.predict_proba(X_sub)\n",
    "    fold_probs.append(fold_prob)\n",
    "    aucs.append(auc['score'])"
   ]
  },
  {
   "cell_type": "code",
   "execution_count": 141,
   "metadata": {
    "collapsed": true
   },
   "outputs": [],
   "source": [
    "aucs = np.array(aucs)\n",
    "aucs = aucs/np.sum(aucs)\n",
    "fold_probs = np.array(fold_probs)"
   ]
  },
  {
   "cell_type": "code",
   "execution_count": 142,
   "metadata": {
    "collapsed": false
   },
   "outputs": [],
   "source": [
    "fprobs = fold_probs[:,:,1]"
   ]
  },
  {
   "cell_type": "code",
   "execution_count": 144,
   "metadata": {
    "collapsed": false
   },
   "outputs": [],
   "source": [
    "subs = np.sum((np.tile(aucs,(fprobs.shape[1],1)).T)*fprobs,axis=0)"
   ]
  },
  {
   "cell_type": "code",
   "execution_count": 145,
   "metadata": {
    "collapsed": false
   },
   "outputs": [
    {
     "data": {
      "text/plain": [
       "(116293,)"
      ]
     },
     "execution_count": 145,
     "metadata": {},
     "output_type": "execute_result"
    }
   ],
   "source": [
    "subs.shape"
   ]
  },
  {
   "cell_type": "code",
   "execution_count": 146,
   "metadata": {
    "collapsed": true
   },
   "outputs": [],
   "source": [
    "#prepare submission\n",
    "ss = pd.DataFrame(columns=['Id','WnvPresent'])\n",
    "ss['WnvPresent'] = pd.Series(subs)\n",
    "ss['Id'] = data['test'].index + 1\n",
    "ss.to_csv(os.path.join(subm_folder, 'xgb_kfold_submission.csv'), index=False)"
   ]
  },
  {
   "cell_type": "markdown",
   "metadata": {},
   "source": [
    "Score of 0.75533 so slightly worse"
   ]
  },
  {
   "cell_type": "code",
   "execution_count": null,
   "metadata": {
    "collapsed": true
   },
   "outputs": [],
   "source": []
  }
 ],
 "metadata": {
  "anaconda-cloud": {},
  "kernelspec": {
   "display_name": "Python [conda root]",
   "language": "python",
   "name": "conda-root-py"
  },
  "language_info": {
   "codemirror_mode": {
    "name": "ipython",
    "version": 2
   },
   "file_extension": ".py",
   "mimetype": "text/x-python",
   "name": "python",
   "nbconvert_exporter": "python",
   "pygments_lexer": "ipython2",
   "version": "2.7.12"
  }
 },
 "nbformat": 4,
 "nbformat_minor": 2
}
