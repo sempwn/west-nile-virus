{
 "cells": [
  {
   "cell_type": "markdown",
   "metadata": {},
   "source": [
    "# Playground for Logisitic Regression\n",
    "___"
   ]
  },
  {
   "cell_type": "markdown",
   "metadata": {},
   "source": [
    "Plan of action: \n",
    "* create logistic regression model\n",
    "* load in data\n",
    "* Split data into test/validation dataset\n",
    "* create submission\n",
    "___"
   ]
  },
  {
   "cell_type": "code",
   "execution_count": 18,
   "metadata": {
    "collapsed": false
   },
   "outputs": [
    {
     "name": "stdout",
     "output_type": "stream",
     "text": [
      "Populating the interactive namespace from numpy and matplotlib\n",
      "The autoreload extension is already loaded. To reload it, use:\n",
      "  %reload_ext autoreload\n"
     ]
    }
   ],
   "source": [
    "%pylab inline\n",
    "%load_ext autoreload\n",
    "%autoreload 2\n",
    "import os\n",
    "import pandas as pd\n",
    "from preprocess import loadPreData\n",
    "from preprocess import scoreAUC\n",
    "from sklearn.model_selection import train_test_split\n",
    "from sklearn.metrics import accuracy_score\n",
    "from sklearn.linear_model import LogisticRegression\n",
    "from sklearn.cross_validation import KFold\n",
    "import sklearn\n",
    "import statsmodels.discrete.discrete_model as sm\n",
    "subm_folder = './submissions'"
   ]
  },
  {
   "cell_type": "markdown",
   "metadata": {},
   "source": [
    "## Import data\n",
    "___"
   ]
  },
  {
   "cell_type": "code",
   "execution_count": 5,
   "metadata": {
    "collapsed": false
   },
   "outputs": [
    {
     "name": "stdout",
     "output_type": "stream",
     "text": [
      "Index([u'Address', u'Species', u'Block', u'Street', u'Trap',\n",
      "       u'AddressNumberAndStreet', u'Latitude', u'Longitude',\n",
      "       u'AddressAccuracy', u'NumMosquitos', u'WnvPresent'],\n",
      "      dtype='object')\n",
      "Index([u'Id', u'Address', u'Species', u'Block', u'Street', u'Trap',\n",
      "       u'AddressNumberAndStreet', u'Latitude', u'Longitude',\n",
      "       u'AddressAccuracy'],\n",
      "      dtype='object')\n"
     ]
    }
   ],
   "source": [
    "data = loadPreData()"
   ]
  },
  {
   "cell_type": "code",
   "execution_count": 6,
   "metadata": {
    "collapsed": true
   },
   "outputs": [],
   "source": [
    "X = data['train'].get_values().astype(float)\n",
    "Y = data['labels']"
   ]
  },
  {
   "cell_type": "markdown",
   "metadata": {},
   "source": [
    "## Split into train/validation set\n",
    "___"
   ]
  },
  {
   "cell_type": "code",
   "execution_count": 9,
   "metadata": {
    "collapsed": true
   },
   "outputs": [],
   "source": [
    "# split data into train and test sets\n",
    "seed = 7\n",
    "test_size = 0.1\n",
    "X_train, X_test, y_train, y_test = train_test_split(X, Y, test_size=test_size, random_state=seed)"
   ]
  },
  {
   "cell_type": "markdown",
   "metadata": {},
   "source": [
    "## Train model\n",
    "___"
   ]
  },
  {
   "cell_type": "code",
   "execution_count": 11,
   "metadata": {
    "collapsed": false
   },
   "outputs": [],
   "source": [
    "logreg = LogisticRegression(C=1e5)"
   ]
  },
  {
   "cell_type": "code",
   "execution_count": 15,
   "metadata": {
    "collapsed": false
   },
   "outputs": [
    {
     "data": {
      "text/plain": [
       "LogisticRegression(C=100000.0, class_weight=None, dual=False,\n",
       "          fit_intercept=True, intercept_scaling=1, max_iter=100,\n",
       "          multi_class='ovr', n_jobs=1, penalty='l2', random_state=None,\n",
       "          solver='liblinear', tol=0.0001, verbose=0, warm_start=False)"
      ]
     },
     "execution_count": 15,
     "metadata": {},
     "output_type": "execute_result"
    }
   ],
   "source": [
    "logreg.fit(X_train, y_train)"
   ]
  },
  {
   "cell_type": "code",
   "execution_count": 16,
   "metadata": {
    "collapsed": false
   },
   "outputs": [],
   "source": [
    "preds = model.predict(X_test)"
   ]
  },
  {
   "cell_type": "markdown",
   "metadata": {},
   "source": [
    "## Plot AUC on validation data\n",
    "___"
   ]
  },
  {
   "cell_type": "code",
   "execution_count": 21,
   "metadata": {
    "collapsed": false
   },
   "outputs": [
    {
     "data": {
      "image/png": "[encoded data removed]",
      "text/plain": [
       "<matplotlib.figure.Figure at 0x10fe80c90>"
      ]
     },
     "metadata": {},
     "output_type": "display_data"
    }
   ],
   "source": [
    "probs = model.predict_proba(X_train)\n",
    "auc = scoreAUC(y_train,probs)\n",
    "plt.plot(auc['fpr'],auc['tpr'],label='train');\n",
    "\n",
    "probs = model.predict_proba(X_test)\n",
    "auc = scoreAUC(y_test,probs)\n",
    "plt.plot(auc['fpr'],auc['tpr'],label='validation');\n",
    "\n",
    "plt.legend();\n",
    "\n",
    "plt.plot([0,1.],[0,1.],'k--');\n",
    "plt.xlabel('False positive rate');\n",
    "plt.ylabel('True positive rate');\n",
    "\n",
    "\n",
    "plt.title('AUC: {:.3f}'.format(auc['score']));"
   ]
  },
  {
   "cell_type": "markdown",
   "metadata": {},
   "source": [
    "## Prepare submission\n",
    "___"
   ]
  },
  {
   "cell_type": "code",
   "execution_count": 20,
   "metadata": {
    "collapsed": true
   },
   "outputs": [],
   "source": [
    "X_sub = data['test'].get_values()\n",
    "probs = model.predict_proba(X_sub)\n",
    "#prepare submission\n",
    "ss = pd.DataFrame(columns=['Id','WnvPresent'])\n",
    "ss['WnvPresent'] = pd.Series(probs[:,1])\n",
    "ss['Id'] = data['test'].index + 1\n",
    "ss.to_csv(os.path.join(subm_folder, 'lg_submission.csv'), index=False)"
   ]
  },
  {
   "cell_type": "markdown",
   "metadata": {},
   "source": [
    "Gives a score of 0.69919, so around 733rd"
   ]
  },
  {
   "cell_type": "markdown",
   "metadata": {
    "collapsed": true
   },
   "source": [
    "## Import data with extra features\n",
    "___"
   ]
  },
  {
   "cell_type": "code",
   "execution_count": 3,
   "metadata": {
    "collapsed": false
   },
   "outputs": [
    {
     "name": "stdout",
     "output_type": "stream",
     "text": [
      "Index([u'Address', u'Species', u'Block', u'Street', u'Trap',\n",
      "       u'AddressNumberAndStreet', u'Latitude', u'Longitude',\n",
      "       u'AddressAccuracy', u'NumMosquitos', u'WnvPresent'],\n",
      "      dtype='object')\n",
      "Index([u'Id', u'Address', u'Species', u'Block', u'Street', u'Trap',\n",
      "       u'AddressNumberAndStreet', u'Latitude', u'Longitude',\n",
      "       u'AddressAccuracy'],\n",
      "      dtype='object')\n"
     ]
    }
   ],
   "source": [
    "data = loadPreData(features=True)\n",
    "X = data['train'].get_values().astype(float)\n",
    "Y = data['labels']\n",
    "# split data into train and test sets\n",
    "seed = 7\n",
    "test_size = 0.1\n",
    "X_train, X_test, y_train, y_test = train_test_split(X, Y, test_size=test_size, random_state=seed)"
   ]
  },
  {
   "cell_type": "code",
   "execution_count": 10,
   "metadata": {
    "collapsed": false
   },
   "outputs": [],
   "source": [
    "model = LogisticRegression(C=1e5)\n",
    "model.fit(X_train, y_train)"
   ]
  },
  {
   "cell_type": "markdown",
   "metadata": {},
   "source": [
    "### Plot AUC"
   ]
  },
  {
   "cell_type": "code",
   "execution_count": 7,
   "metadata": {
    "collapsed": false
   },
   "outputs": [
    {
     "data": {
      "image/png": "[encoded data removed]",
      "text/plain": [
       "<matplotlib.figure.Figure at 0x10f9bfb10>"
      ]
     },
     "metadata": {},
     "output_type": "display_data"
    }
   ],
   "source": [
    "preds = model.predict(X_test)\n",
    "\n",
    "probs = model.predict_proba(X_train)\n",
    "auc = scoreAUC(y_train,probs)\n",
    "plt.plot(auc['fpr'],auc['tpr'],label='train');\n",
    "\n",
    "probs = model.predict_proba(X_test)\n",
    "auc = scoreAUC(y_test,probs)\n",
    "plt.plot(auc['fpr'],auc['tpr'],label='validation');\n",
    "\n",
    "plt.legend();\n",
    "\n",
    "plt.plot([0,1.],[0,1.],'k--');\n",
    "plt.xlabel('False positive rate');\n",
    "plt.ylabel('True positive rate');\n",
    "\n",
    "\n",
    "plt.title('AUC: {:.3f}'.format(auc['score']));"
   ]
  },
  {
   "cell_type": "markdown",
   "metadata": {},
   "source": [
    "## print odds-ratios of logistic model"
   ]
  },
  {
   "cell_type": "code",
   "execution_count": 44,
   "metadata": {
    "collapsed": false
   },
   "outputs": [
    {
     "name": "stdout",
     "output_type": "stream",
     "text": [
      "month : 7.36449417389\n",
      "Latitude : 3.79429026744\n",
      "Long_int : 2.90643583793\n",
      "Tmin_y : 1.61587952378\n",
      "Cool_x : 1.50456069486\n",
      "AvgSpeed_y : 1.45629349283\n",
      "WetBulb_x : 1.375272564\n",
      "Tmax_y : 1.32668346442\n",
      "DewPoint_x : 1.27608613354\n",
      "Tavg_x : 1.22640910417\n",
      "AddressAccuracy : 1.21417802246\n",
      "PrecipTotal_y : 1.16617925474\n",
      "Heat_y : 1.15701135424\n",
      "SnowFall_x : 1.08854784852\n",
      "ResultDir_x : 1.08837177119\n",
      "Cool_y : 1.08819320753\n",
      "ResultSpeed_x : 1.0663813426\n",
      "day : 1.06519201861\n",
      "pMos1 : 1.04444394044\n",
      "pWNV1 : 1.01221319892\n",
      "Sunrise_x : 1.00839470601\n",
      "Block : 1.00550876904\n",
      "DateCount : 1.0035546796\n",
      "Trap : 1.00158492276\n",
      "Depth_x : 1.0\n",
      "Sunset_x : 0.998764820691\n",
      "Street : 0.998134628854\n",
      "Tmax_x : 0.982781581996\n",
      "ResultDir_y : 0.90990161809\n",
      "ResultSpeed_y : 0.833266305669\n",
      "Tmin_x : 0.822857902142\n",
      "DewPoint_y : 0.813922705064\n",
      "AvgSpeed_x : 0.811381621574\n",
      "PrecipTotal_x : 0.801062148983\n",
      "Species : 0.706488881406\n",
      "WetBulb_y : 0.698657050063\n",
      "StnPressure_y : 0.693831708086\n",
      "Depart_x : 0.675026982297\n",
      "SeaLevel_y : 0.66804243399\n",
      "Lat_int : 0.65559861979\n",
      "StnPressure_x : 0.620898480194\n",
      "SeaLevel_x : 0.618348626766\n",
      "Heat_x : 0.55282196168\n",
      "Tavg_y : 0.423817935128\n",
      "Longitude : 0.374259125775\n"
     ]
    }
   ],
   "source": [
    "for s,c in sorted(zip(np.exp(model.coef_[0]),data['train'].columns),reverse=True):\n",
    "    print(\"{} : {}\".format(c,s))\n",
    "    #[x for _,x in sorted(zip(Y,X))]\n",
    " "
   ]
  },
  {
   "cell_type": "code",
   "execution_count": null,
   "metadata": {
    "collapsed": false
   },
   "outputs": [],
   "source": []
  },
  {
   "cell_type": "code",
   "execution_count": null,
   "metadata": {
    "collapsed": false
   },
   "outputs": [],
   "source": []
  },
  {
   "cell_type": "code",
   "execution_count": null,
   "metadata": {
    "collapsed": true
   },
   "outputs": [],
   "source": []
  }
 ],
 "metadata": {
  "kernelspec": {
   "display_name": "Python [conda root]",
   "language": "python",
   "name": "conda-root-py"
  },
  "language_info": {
   "codemirror_mode": {
    "name": "ipython",
    "version": 2
   },
   "file_extension": ".py",
   "mimetype": "text/x-python",
   "name": "python",
   "nbconvert_exporter": "python",
   "pygments_lexer": "ipython2",
   "version": "2.7.12"
  }
 },
 "nbformat": 4,
 "nbformat_minor": 2
}
