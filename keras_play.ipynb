{
 "cells": [
  {
   "cell_type": "markdown",
   "metadata": {},
   "source": [
    "# Play with keras model"
   ]
  },
  {
   "cell_type": "code",
   "execution_count": 1,
   "metadata": {
    "collapsed": false
   },
   "outputs": [
    {
     "name": "stdout",
     "output_type": "stream",
     "text": [
      "Populating the interactive namespace from numpy and matplotlib\n"
     ]
    },
    {
     "name": "stderr",
     "output_type": "stream",
     "text": [
      "Using TensorFlow backend.\n",
      "//anaconda/lib/python2.7/site-packages/sklearn/cross_validation.py:44: DeprecationWarning: This module was deprecated in version 0.18 in favor of the model_selection module into which all the refactored classes and functions are moved. Also note that the interface of the new CV iterators are different from that of this module. This module will be removed in 0.20.\n",
      "  \"This module will be removed in 0.20.\", DeprecationWarning)\n"
     ]
    },
    {
     "data": {
      "text/plain": [
       "'\\n    This demonstrates how to reach a 0.80 ROC AUC score (local 4-fold validation)\\n    in the Kaggle Nile virus prediction challenge. \\n\\n    The model trains in a few seconds on CPU.\\n'"
      ]
     },
     "execution_count": 1,
     "metadata": {},
     "output_type": "execute_result"
    }
   ],
   "source": [
    "%pylab inline\n",
    "import numpy as np\n",
    "import csv\n",
    "from keras.models import Sequential\n",
    "from keras.layers.core import Dense, Dropout, Activation\n",
    "from keras.utils import np_utils\n",
    "from sklearn import metrics\n",
    "from sklearn.cross_validation import KFold\n",
    "from sklearn.preprocessing import StandardScaler\n",
    "from sklearn import utils\n",
    "from preprocess import loadPreData\n",
    "\n",
    "'''\n",
    "    This demonstrates how to reach a 0.80 ROC AUC score (local 4-fold validation)\n",
    "    in the Kaggle Nile virus prediction challenge. \n",
    "\n",
    "    The model trains in a few seconds on CPU.\n",
    "'''"
   ]
  },
  {
   "cell_type": "code",
   "execution_count": 2,
   "metadata": {
    "collapsed": false
   },
   "outputs": [
    {
     "name": "stdout",
     "output_type": "stream",
     "text": [
      "Index([u'Address', u'Species', u'Block', u'Street', u'Trap',\n",
      "       u'AddressNumberAndStreet', u'Latitude', u'Longitude',\n",
      "       u'AddressAccuracy', u'NumMosquitos', u'WnvPresent'],\n",
      "      dtype='object')\n",
      "Index([u'Id', u'Address', u'Species', u'Block', u'Street', u'Trap',\n",
      "       u'AddressNumberAndStreet', u'Latitude', u'Longitude',\n",
      "       u'AddressAccuracy'],\n",
      "      dtype='object')\n"
     ]
    }
   ],
   "source": [
    "data = loadPreData()"
   ]
  },
  {
   "cell_type": "code",
   "execution_count": 3,
   "metadata": {
    "collapsed": true
   },
   "outputs": [],
   "source": [
    "X = data['train'].get_values().astype(float)\n",
    "y = data['labels']\n",
    "#y = np.array([y,1-y]).T\n",
    "Y = np_utils.to_categorical(y)"
   ]
  },
  {
   "cell_type": "code",
   "execution_count": 19,
   "metadata": {
    "collapsed": false
   },
   "outputs": [
    {
     "data": {
      "text/plain": [
       "array([[ 1.,  0.],\n",
       "       [ 0.,  1.],\n",
       "       [ 1.,  0.]])"
      ]
     },
     "execution_count": 19,
     "metadata": {},
     "output_type": "execute_result"
    }
   ],
   "source": []
  },
  {
   "cell_type": "code",
   "execution_count": 4,
   "metadata": {
    "collapsed": true
   },
   "outputs": [],
   "source": [
    "input_dim = X.shape[1]\n",
    "output_dim = 2"
   ]
  },
  {
   "cell_type": "code",
   "execution_count": 5,
   "metadata": {
    "collapsed": false
   },
   "outputs": [],
   "source": [
    "def scoreAUC(y,probs):\n",
    "    ps = np.linspace(0.,1.,num=100)\n",
    "    prs = []\n",
    "    nrs = []\n",
    "    for p in ps:\n",
    "        preds = probs[:,0]<p\n",
    "        pr = np.sum((y & preds))/float(np.sum(y))\n",
    "        nr = np.sum((1-y & 1-preds))/float(np.sum(1-y))\n",
    "        nrs.append(nr)\n",
    "        prs.append(pr)\n",
    "    xs = 1-np.array(nrs)\n",
    "    ys = np.array(prs)\n",
    "    dxs = xs[1:] - xs[:-1]\n",
    "    ays = .5*(ys[1:] + ys[:-1])\n",
    "    auc = np.sum(ays*dxs)\n",
    "    return {'score':auc,'fpr':xs,'tpr':ys}"
   ]
  },
  {
   "cell_type": "code",
   "execution_count": 6,
   "metadata": {
    "collapsed": true
   },
   "outputs": [],
   "source": [
    "def build_model(input_dim, output_dim):\n",
    "    model = Sequential()\n",
    "    model.add(Dense(32, input_dim=input_dim, kernel_initializer='random_uniform'))\n",
    "    model.add(Activation('relu'))\n",
    "    model.add(Dropout(0.5))\n",
    "\n",
    "    model.add(Dense(32, kernel_initializer='random_uniform'))\n",
    "    model.add(Activation('relu'))\n",
    "    model.add(Dropout(0.5))\n",
    "\n",
    "    model.add(Dense(output_dim, kernel_initializer='random_uniform'))\n",
    "\n",
    "    model.add(Activation('softmax'))\n",
    "\n",
    "    model.compile(loss='categorical_crossentropy',\n",
    "              optimizer='adam',\n",
    "              metrics=['accuracy'])\n",
    "    return model"
   ]
  },
  {
   "cell_type": "code",
   "execution_count": 71,
   "metadata": {
    "collapsed": false
   },
   "outputs": [],
   "source": [
    "def testModel():    \n",
    "    def logit(x):\n",
    "        return 1/(1+np.exp(-x))\n",
    "\n",
    "    X = (np.random.rand(5000,5))\n",
    "    covs = np.tile(100.*(1.-2.*np.random.rand(5)),(5000,1))\n",
    "    y = np.sum(X*covs,axis=1)\n",
    "\n",
    "    y =  (logit(y)>0.5).astype(float)\n",
    "    print y.shape\n",
    "    y = np_utils.to_categorical(y)\n",
    "    \n",
    "    X_valid = np.random.rand(1000,5)\n",
    "    \n",
    "    y_valid = np.sum(covs[:1000,:]*X_valid,axis=1)\n",
    "    y_valid =  (logit(y_valid)>0.5).astype(float)\n",
    "    y_valid = np_utils.to_categorical(y_valid)\n",
    "    \n",
    "    model = build_model(5, 2)\n",
    "    print 'Data input shape {}, data output shape {}'.format(X.shape,y.shape)\n",
    "    model.fit(X, y, nb_epoch=10, batch_size=32, validation_data=(X_valid, y_valid), verbose=True)\n",
    "    return {'model':model,'X_valid':X_valid,'y_valid':y_valid}"
   ]
  },
  {
   "cell_type": "code",
   "execution_count": 72,
   "metadata": {
    "collapsed": false
   },
   "outputs": [
    {
     "name": "stdout",
     "output_type": "stream",
     "text": [
      "(5000,)\n",
      "Data input shape (5000, 5), data output shape (5000, 2)\n",
      "Train on 5000 samples, validate on 1000 samples\n",
      "Epoch 1/10\n",
      "5000/5000 [==============================] - 1s - loss: 0.5966 - acc: 0.7118 - val_loss: 0.4595 - val_acc: 0.8110\n",
      "Epoch 2/10\n",
      "5000/5000 [==============================] - 0s - loss: 0.4472 - acc: 0.8104 - val_loss: 0.3473 - val_acc: 0.8110\n",
      "Epoch 3/10\n",
      "5000/5000 [==============================] - 0s - loss: 0.3711 - acc: 0.8246 - val_loss: 0.2474 - val_acc: 0.8840\n",
      "Epoch 4/10\n",
      "5000/5000 [==============================] - 0s - loss: 0.2998 - acc: 0.8596 - val_loss: 0.1733 - val_acc: 0.9400\n",
      "Epoch 5/10\n",
      "5000/5000 [==============================] - 0s - loss: 0.2475 - acc: 0.8900 - val_loss: 0.1292 - val_acc: 0.9610\n",
      "Epoch 6/10\n",
      "5000/5000 [==============================] - 0s - loss: 0.2163 - acc: 0.9008 - val_loss: 0.1016 - val_acc: 0.9770\n",
      "Epoch 7/10\n",
      "5000/5000 [==============================] - 0s - loss: 0.1992 - acc: 0.9082 - val_loss: 0.0850 - val_acc: 0.9840\n",
      "Epoch 8/10\n",
      "5000/5000 [==============================] - 0s - loss: 0.1704 - acc: 0.9260 - val_loss: 0.0677 - val_acc: 0.9860\n",
      "Epoch 9/10\n",
      "5000/5000 [==============================] - 0s - loss: 0.1547 - acc: 0.9364 - val_loss: 0.0597 - val_acc: 0.9870\n",
      "Epoch 10/10\n",
      "5000/5000 [==============================] - 0s - loss: 0.1349 - acc: 0.9438 - val_loss: 0.0508 - val_acc: 0.9920\n"
     ]
    }
   ],
   "source": [
    "res = testModel()"
   ]
  },
  {
   "cell_type": "code",
   "execution_count": 73,
   "metadata": {
    "collapsed": false
   },
   "outputs": [
    {
     "name": "stdout",
     "output_type": "stream",
     "text": [
      "\r",
      "  32/1000 [..............................] - ETA: 5s"
     ]
    },
    {
     "data": {
      "text/plain": [
       "array([[  8.18462521e-02,   9.18153763e-01],\n",
       "       [  1.00000000e+00,   2.92689997e-08],\n",
       "       [  9.99997497e-01,   2.45466754e-06],\n",
       "       ..., \n",
       "       [  9.96360719e-01,   3.63926683e-03],\n",
       "       [  4.45448160e-01,   5.54551840e-01],\n",
       "       [  9.99990821e-01,   9.21040009e-06]], dtype=float32)"
      ]
     },
     "execution_count": 73,
     "metadata": {},
     "output_type": "execute_result"
    }
   ],
   "source": [
    "res['model'].predict_proba(res['X_valid'])"
   ]
  },
  {
   "cell_type": "code",
   "execution_count": 9,
   "metadata": {
    "collapsed": false
   },
   "outputs": [
    {
     "name": "stdout",
     "output_type": "stream",
     "text": [
      "------------------------------------------------------------\n",
      "('Fold', 0)\n",
      "------------------------------------------------------------\n",
      "fold has 366.0 WNV present\n",
      "Class weight: [  0.52435778  10.7636612 ]\n",
      "Building model...\n",
      "Training model...\n",
      "Train on 7879 samples, validate on 2627 samples\n",
      "Epoch 1/20\n",
      "7879/7879 [==============================] - 1s - loss: 0.2471 - acc: 0.9495 - val_loss: 0.2884 - val_acc: 0.9296\n",
      "Epoch 2/20\n",
      "7879/7879 [==============================] - 0s - loss: 0.2152 - acc: 0.9535 - val_loss: 0.2583 - val_acc: 0.9296\n",
      "Epoch 3/20\n",
      "7879/7879 [==============================] - 0s - loss: 0.2023 - acc: 0.9535 - val_loss: 0.2800 - val_acc: 0.9296\n",
      "Epoch 4/20\n",
      "7879/7879 [==============================] - 0s - loss: 0.2040 - acc: 0.9535 - val_loss: 0.2778 - val_acc: 0.9296\n",
      "Epoch 5/20\n",
      "7879/7879 [==============================] - 0s - loss: 0.1997 - acc: 0.9535 - val_loss: 0.2678 - val_acc: 0.9296\n",
      "Epoch 6/20\n",
      "7879/7879 [==============================] - 0s - loss: 0.2012 - acc: 0.9535 - val_loss: 0.2672 - val_acc: 0.9296\n",
      "Epoch 7/20\n",
      "7879/7879 [==============================] - 0s - loss: 0.1919 - acc: 0.9535 - val_loss: 0.2571 - val_acc: 0.9296\n",
      "Epoch 8/20\n",
      "7879/7879 [==============================] - 0s - loss: 0.1913 - acc: 0.9535 - val_loss: 0.2631 - val_acc: 0.9296\n",
      "Epoch 9/20\n",
      "7879/7879 [==============================] - 0s - loss: 0.1943 - acc: 0.9535 - val_loss: 0.2558 - val_acc: 0.9296\n",
      "Epoch 10/20\n",
      "7879/7879 [==============================] - 0s - loss: 0.1891 - acc: 0.9535 - val_loss: 0.2539 - val_acc: 0.9296\n",
      "Epoch 11/20\n",
      "7879/7879 [==============================] - 0s - loss: 0.1901 - acc: 0.9535 - val_loss: 0.2496 - val_acc: 0.9296\n",
      "Epoch 12/20\n",
      "7879/7879 [==============================] - 0s - loss: 0.1902 - acc: 0.9535 - val_loss: 0.2487 - val_acc: 0.9296\n",
      "Epoch 13/20\n",
      "7879/7879 [==============================] - 0s - loss: 0.1851 - acc: 0.9535 - val_loss: 0.2526 - val_acc: 0.9296\n",
      "Epoch 14/20\n",
      "7879/7879 [==============================] - 0s - loss: 0.1847 - acc: 0.9535 - val_loss: 0.2507 - val_acc: 0.9296\n",
      "Epoch 15/20\n",
      "7879/7879 [==============================] - 0s - loss: 0.1836 - acc: 0.9535 - val_loss: 0.2509 - val_acc: 0.9296\n",
      "Epoch 16/20\n",
      "7879/7879 [==============================] - 0s - loss: 0.1825 - acc: 0.9535 - val_loss: 0.2486 - val_acc: 0.9296\n",
      "Epoch 17/20\n",
      "7879/7879 [==============================] - 0s - loss: 0.1822 - acc: 0.9535 - val_loss: 0.2480 - val_acc: 0.9296\n",
      "Epoch 18/20\n",
      "7879/7879 [==============================] - 0s - loss: 0.1827 - acc: 0.9535 - val_loss: 0.2506 - val_acc: 0.9296\n",
      "Epoch 19/20\n",
      "7879/7879 [==============================] - 0s - loss: 0.1810 - acc: 0.9535 - val_loss: 0.2489 - val_acc: 0.9296\n",
      "Epoch 20/20\n",
      "7879/7879 [==============================] - 0s - loss: 0.1807 - acc: 0.9535 - val_loss: 0.2473 - val_acc: 0.9296\n",
      "  32/2627 [..............................] - ETA: 3s('ROC:', 0.60732895057219383)\n",
      "------------------------------------------------------------\n",
      "('Fold', 1)\n",
      "------------------------------------------------------------\n",
      "fold has 495.0 WNV present\n",
      "Class weight: [ 0.53351842  7.95858586]\n",
      "Building model...\n",
      "Training model...\n",
      "Train on 7879 samples, validate on 2627 samples\n",
      "Epoch 1/20\n",
      "7879/7879 [==============================] - 1s - loss: 0.2725 - acc: 0.9357 - val_loss: 0.1764 - val_acc: 0.9787\n",
      "Epoch 2/20\n",
      "7879/7879 [==============================] - 0s - loss: 0.2620 - acc: 0.9372 - val_loss: 0.1454 - val_acc: 0.9787\n",
      "Epoch 3/20\n",
      "7879/7879 [==============================] - 0s - loss: 0.2572 - acc: 0.9372 - val_loss: 0.1052 - val_acc: 0.9787\n",
      "Epoch 4/20\n",
      "7879/7879 [==============================] - 0s - loss: 0.2480 - acc: 0.9372 - val_loss: 0.1459 - val_acc: 0.9787\n",
      "Epoch 5/20\n",
      "7879/7879 [==============================] - 0s - loss: 0.2482 - acc: 0.9372 - val_loss: 0.1296 - val_acc: 0.9787\n",
      "Epoch 6/20\n",
      "7879/7879 [==============================] - 0s - loss: 0.2419 - acc: 0.9372 - val_loss: 0.1561 - val_acc: 0.9787\n",
      "Epoch 7/20\n",
      "7879/7879 [==============================] - 0s - loss: 0.2395 - acc: 0.9372 - val_loss: 0.1434 - val_acc: 0.9787\n",
      "Epoch 8/20\n",
      "7879/7879 [==============================] - 1s - loss: 0.2388 - acc: 0.9372 - val_loss: 0.1430 - val_acc: 0.9787\n",
      "Epoch 9/20\n",
      "7879/7879 [==============================] - 0s - loss: 0.2389 - acc: 0.9372 - val_loss: 0.1198 - val_acc: 0.9787\n",
      "Epoch 10/20\n",
      "7879/7879 [==============================] - 1s - loss: 0.2343 - acc: 0.9372 - val_loss: 0.1102 - val_acc: 0.9787\n",
      "Epoch 11/20\n",
      "7879/7879 [==============================] - 0s - loss: 0.2298 - acc: 0.9372 - val_loss: 0.1199 - val_acc: 0.9787\n",
      "Epoch 12/20\n",
      "7879/7879 [==============================] - 0s - loss: 0.2320 - acc: 0.9372 - val_loss: 0.1067 - val_acc: 0.9787\n",
      "Epoch 13/20\n",
      "7879/7879 [==============================] - 0s - loss: 0.2279 - acc: 0.9372 - val_loss: 0.1044 - val_acc: 0.9787\n",
      "Epoch 14/20\n",
      "7879/7879 [==============================] - 0s - loss: 0.2271 - acc: 0.9372 - val_loss: 0.0984 - val_acc: 0.9787\n",
      "Epoch 15/20\n",
      "7879/7879 [==============================] - 0s - loss: 0.2315 - acc: 0.9372 - val_loss: 0.1312 - val_acc: 0.9787\n",
      "Epoch 16/20\n",
      "7879/7879 [==============================] - 1s - loss: 0.2309 - acc: 0.9372 - val_loss: 0.1065 - val_acc: 0.9787\n",
      "Epoch 17/20\n",
      "7879/7879 [==============================] - 0s - loss: 0.2285 - acc: 0.9372 - val_loss: 0.1084 - val_acc: 0.9787\n",
      "Epoch 18/20\n",
      "7879/7879 [==============================] - 0s - loss: 0.2286 - acc: 0.9372 - val_loss: 0.1114 - val_acc: 0.9787\n",
      "Epoch 19/20\n",
      "7879/7879 [==============================] - 1s - loss: 0.2269 - acc: 0.9372 - val_loss: 0.1095 - val_acc: 0.9787\n",
      "Epoch 20/20\n",
      "7879/7879 [==============================] - 0s - loss: 0.2287 - acc: 0.9372 - val_loss: 0.1038 - val_acc: 0.9787\n",
      "  32/2627 [..............................] - ETA: 5s('ROC:', 0.71071220203367225)\n",
      "------------------------------------------------------------\n",
      "('Fold', 2)\n",
      "------------------------------------------------------------\n",
      "fold has 489.0 WNV present\n",
      "Class weight: [ 0.53308077  8.05725971]\n",
      "Building model...\n",
      "Training model...\n",
      "Train on 7880 samples, validate on 2626 samples\n",
      "Epoch 1/20\n",
      "7880/7880 [==============================] - 1s - loss: 0.2671 - acc: 0.9345 - val_loss: 0.1652 - val_acc: 0.9764\n",
      "Epoch 2/20\n",
      "7880/7880 [==============================] - 0s - loss: 0.2601 - acc: 0.9379 - val_loss: 0.1944 - val_acc: 0.9764\n",
      "Epoch 3/20\n",
      "7880/7880 [==============================] - 0s - loss: 0.2485 - acc: 0.9379 - val_loss: 0.1619 - val_acc: 0.9764\n",
      "Epoch 4/20\n",
      "7880/7880 [==============================] - 0s - loss: 0.2471 - acc: 0.9379 - val_loss: 0.1913 - val_acc: 0.9764\n",
      "Epoch 5/20\n",
      "7880/7880 [==============================] - 0s - loss: 0.2414 - acc: 0.9379 - val_loss: 0.1780 - val_acc: 0.9764\n",
      "Epoch 6/20\n",
      "7880/7880 [==============================] - 0s - loss: 0.2358 - acc: 0.9379 - val_loss: 0.1265 - val_acc: 0.9764\n",
      "Epoch 7/20\n",
      "7880/7880 [==============================] - 1s - loss: 0.2304 - acc: 0.9379 - val_loss: 0.1599 - val_acc: 0.9764\n",
      "Epoch 8/20\n",
      "7880/7880 [==============================] - 0s - loss: 0.2264 - acc: 0.9379 - val_loss: 0.1388 - val_acc: 0.9764\n",
      "Epoch 9/20\n",
      "7880/7880 [==============================] - 0s - loss: 0.2299 - acc: 0.9379 - val_loss: 0.1428 - val_acc: 0.9764\n",
      "Epoch 10/20\n",
      "7880/7880 [==============================] - 1s - loss: 0.2250 - acc: 0.9379 - val_loss: 0.1225 - val_acc: 0.9764\n",
      "Epoch 11/20\n",
      "7880/7880 [==============================] - 0s - loss: 0.2251 - acc: 0.9379 - val_loss: 0.1172 - val_acc: 0.9764\n",
      "Epoch 12/20\n",
      "7880/7880 [==============================] - 0s - loss: 0.2281 - acc: 0.9379 - val_loss: 0.1307 - val_acc: 0.9764\n",
      "Epoch 13/20\n",
      "7880/7880 [==============================] - 0s - loss: 0.2306 - acc: 0.9379 - val_loss: 0.1310 - val_acc: 0.9764\n",
      "Epoch 14/20\n",
      "7880/7880 [==============================] - 0s - loss: 0.2345 - acc: 0.9379 - val_loss: 0.1289 - val_acc: 0.9764\n",
      "Epoch 15/20\n",
      "7880/7880 [==============================] - 1s - loss: 0.2331 - acc: 0.9379 - val_loss: 0.1279 - val_acc: 0.9764\n",
      "Epoch 16/20\n",
      "7880/7880 [==============================] - 1s - loss: 0.2332 - acc: 0.9379 - val_loss: 0.1272 - val_acc: 0.9764\n",
      "Epoch 17/20\n",
      "7880/7880 [==============================] - 0s - loss: 0.2337 - acc: 0.9379 - val_loss: 0.1279 - val_acc: 0.9764\n",
      "Epoch 18/20\n",
      "7880/7880 [==============================] - 0s - loss: 0.2323 - acc: 0.9379 - val_loss: 0.1286 - val_acc: 0.9764\n",
      "Epoch 19/20\n",
      "7880/7880 [==============================] - 0s - loss: 0.2275 - acc: 0.9379 - val_loss: 0.1255 - val_acc: 0.9764\n",
      "Epoch 20/20\n",
      "7880/7880 [==============================] - 0s - loss: 0.2276 - acc: 0.9379 - val_loss: 0.1325 - val_acc: 0.9764\n",
      "  32/2626 [..............................] - ETA: 5s('ROC:', 0.57142317950782551)\n",
      "------------------------------------------------------------\n",
      "('Fold', 3)\n",
      "------------------------------------------------------------\n",
      "fold has 303.0 WNV present\n",
      "Class weight: [  0.51999472  13.00330033]\n",
      "Building model...\n",
      "Training model...\n",
      "Train on 7880 samples, validate on 2626 samples\n",
      "Epoch 1/20\n",
      "7880/7880 [==============================] - 1s - loss: 0.2186 - acc: 0.9560 - val_loss: 0.3372 - val_acc: 0.9056\n",
      "Epoch 2/20\n",
      "7880/7880 [==============================] - 0s - loss: 0.1946 - acc: 0.9615 - val_loss: 0.3058 - val_acc: 0.9056\n",
      "Epoch 3/20\n",
      "7880/7880 [==============================] - 1s - loss: 0.1836 - acc: 0.9615 - val_loss: 0.3031 - val_acc: 0.9056\n",
      "Epoch 4/20\n",
      "7880/7880 [==============================] - 0s - loss: 0.1795 - acc: 0.9615 - val_loss: 0.3129 - val_acc: 0.9056\n",
      "Epoch 5/20\n",
      "7880/7880 [==============================] - 1s - loss: 0.1749 - acc: 0.9615 - val_loss: 0.3047 - val_acc: 0.9056\n",
      "Epoch 6/20\n",
      "7880/7880 [==============================] - 0s - loss: 0.1745 - acc: 0.9615 - val_loss: 0.3200 - val_acc: 0.9056\n",
      "Epoch 7/20\n",
      "7880/7880 [==============================] - 1s - loss: 0.1723 - acc: 0.9615 - val_loss: 0.3020 - val_acc: 0.9056\n",
      "Epoch 8/20\n",
      "7880/7880 [==============================] - 0s - loss: 0.1683 - acc: 0.9615 - val_loss: 0.3132 - val_acc: 0.9056\n",
      "Epoch 9/20\n",
      "7880/7880 [==============================] - 0s - loss: 0.1639 - acc: 0.9615 - val_loss: 0.3216 - val_acc: 0.9056\n",
      "Epoch 10/20\n",
      "7880/7880 [==============================] - 0s - loss: 0.1626 - acc: 0.9615 - val_loss: 0.3517 - val_acc: 0.9056\n",
      "Epoch 11/20\n",
      "7880/7880 [==============================] - 0s - loss: 0.1605 - acc: 0.9615 - val_loss: 0.3478 - val_acc: 0.9056\n",
      "Epoch 12/20\n",
      "7880/7880 [==============================] - 1s - loss: 0.1587 - acc: 0.9615 - val_loss: 0.3323 - val_acc: 0.9056\n",
      "Epoch 13/20\n",
      "7880/7880 [==============================] - 1s - loss: 0.1616 - acc: 0.9615 - val_loss: 0.3204 - val_acc: 0.9056\n",
      "Epoch 14/20\n",
      "7880/7880 [==============================] - 1s - loss: 0.1599 - acc: 0.9615 - val_loss: 0.3305 - val_acc: 0.9056\n",
      "Epoch 15/20\n",
      "7880/7880 [==============================] - 0s - loss: 0.1622 - acc: 0.9615 - val_loss: 0.3318 - val_acc: 0.9056\n",
      "Epoch 16/20\n",
      "7880/7880 [==============================] - 1s - loss: 0.1597 - acc: 0.9615 - val_loss: 0.3255 - val_acc: 0.9056\n",
      "Epoch 17/20\n",
      "7880/7880 [==============================] - 1s - loss: 0.1575 - acc: 0.9615 - val_loss: 0.3276 - val_acc: 0.9056\n",
      "Epoch 18/20\n",
      "7880/7880 [==============================] - 1s - loss: 0.1568 - acc: 0.9615 - val_loss: 0.3629 - val_acc: 0.9056\n",
      "Epoch 19/20\n",
      "7880/7880 [==============================] - 1s - loss: 0.1591 - acc: 0.9615 - val_loss: 0.3254 - val_acc: 0.9056\n",
      "Epoch 20/20\n",
      "7880/7880 [==============================] - 0s - loss: 0.1575 - acc: 0.9615 - val_loss: 0.3282 - val_acc: 0.9056\n",
      "1280/2626 [=============>................] - ETA: 0s ('ROC:', 0.69986129574866385)\n",
      "('Average ROC:', 0.64733140696558888)\n"
     ]
    }
   ],
   "source": [
    "#class_weight = {0 : 1.,1: 50.}\n",
    "\n",
    "nb_folds = 4\n",
    "kfolds = KFold(len(y), nb_folds)\n",
    "av_roc = 0.\n",
    "f = 0\n",
    "for train, valid in kfolds:\n",
    "    print('---'*20)\n",
    "    print('Fold', f)\n",
    "    print('---'*20)\n",
    "    f += 1\n",
    "    X_train = X[train]\n",
    "    X_valid = X[valid]\n",
    "    Y_train = Y[train]\n",
    "    Y_valid = Y[valid]\n",
    "    y_valid = y[valid]\n",
    "    print(\"fold has {} WNV present\".format(np.sum(Y_train[:,1])))\n",
    "    class_weight = utils.class_weight.compute_class_weight('balanced', np.unique(y[train]), y[train])\n",
    "    print(\"Class weight: {}\".format(class_weight))\n",
    "    print(\"Building model...\")\n",
    "    model = build_model(input_dim, output_dim)\n",
    "\n",
    "    print(\"Training model...\")\n",
    "\n",
    "    model.fit(X_train, Y_train, epochs=20, batch_size=32, validation_data=(X_valid, Y_valid), \n",
    "              class_weight=class_weight,verbose=True)\n",
    "    valid_preds = model.predict_proba(X_valid)\n",
    "    valid_preds = valid_preds[:, 1]\n",
    "    roc = metrics.roc_auc_score(y_valid, valid_preds)\n",
    "    print(\"ROC:\", roc)\n",
    "    av_roc += roc\n",
    "\n",
    "print('Average ROC:', av_roc/nb_folds)"
   ]
  },
  {
   "cell_type": "code",
   "execution_count": 8,
   "metadata": {
    "collapsed": false
   },
   "outputs": [
    {
     "name": "stdout",
     "output_type": "stream",
     "text": [
      "4352/5253 [=======================>......] - ETA: 0s"
     ]
    },
    {
     "data": {
      "text/plain": [
       "264.66864"
      ]
     },
     "execution_count": 8,
     "metadata": {},
     "output_type": "execute_result"
    }
   ],
   "source": [
    "np.sum(model.predict_proba(X_valid)[:,1])"
   ]
  },
  {
   "cell_type": "code",
   "execution_count": 10,
   "metadata": {
    "collapsed": false
   },
   "outputs": [
    {
     "name": "stdout",
     "output_type": "stream",
     "text": [
      "Epoch 1/1\n",
      "10506/10506 [==============================] - 1s - loss: 0.2485 - acc: 0.9445     \n"
     ]
    },
    {
     "data": {
      "text/plain": [
       "<keras.callbacks.History at 0x122a225d0>"
      ]
     },
     "execution_count": 10,
     "metadata": {},
     "output_type": "execute_result"
    }
   ],
   "source": [
    "Y = np_utils.to_categorical(y)\n",
    "model = build_model(input_dim, output_dim)\n",
    "model.fit(X, Y, nb_epoch=1, batch_size=32, verbose=1,class_weight=class_weight)"
   ]
  },
  {
   "cell_type": "code",
   "execution_count": 11,
   "metadata": {
    "collapsed": false
   },
   "outputs": [],
   "source": [
    "X_sub = data['test'].get_values()"
   ]
  },
  {
   "cell_type": "code",
   "execution_count": 12,
   "metadata": {
    "collapsed": false
   },
   "outputs": [
    {
     "name": "stdout",
     "output_type": "stream",
     "text": [
      "114176/116293 [============================>.] - ETA: 0s"
     ]
    },
    {
     "data": {
      "text/plain": [
       "array([ 0.94704348,  0.94707501,  0.94701201, ...,  0.93396246,\n",
       "        0.93398762,  0.93389934], dtype=float32)"
      ]
     },
     "execution_count": 12,
     "metadata": {},
     "output_type": "execute_result"
    }
   ],
   "source": [
    "subs = model.predict_proba(X_sub)\n",
    "subs[:,0]"
   ]
  },
  {
   "cell_type": "code",
   "execution_count": 102,
   "metadata": {
    "collapsed": false
   },
   "outputs": [
    {
     "data": {
      "text/plain": [
       "0.052446221206929371"
      ]
     },
     "execution_count": 102,
     "metadata": {},
     "output_type": "execute_result"
    }
   ],
   "source": [
    "np.sum(data['labels']==1)/float(data['labels'].size)"
   ]
  },
  {
   "cell_type": "code",
   "execution_count": 129,
   "metadata": {
    "collapsed": false
   },
   "outputs": [
    {
     "name": "stdout",
     "output_type": "stream",
     "text": [
      "(5253, 43)\n"
     ]
    }
   ],
   "source": [
    "print X_valid.shape"
   ]
  },
  {
   "cell_type": "code",
   "execution_count": 133,
   "metadata": {
    "collapsed": false
   },
   "outputs": [
    {
     "name": "stderr",
     "output_type": "stream",
     "text": [
      "//anaconda/lib/python2.7/site-packages/pandas/indexes/base.py:1275: VisibleDeprecationWarning: boolean index did not match indexed array along dimension 0; dimension is 43 but corresponding boolean dimension is 1\n",
      "  result = getitem(key)\n"
     ]
    },
    {
     "data": {
      "text/plain": [
       "Index([], dtype='object')"
      ]
     },
     "execution_count": 133,
     "metadata": {},
     "output_type": "execute_result"
    }
   ],
   "source": [
    "data['train'].columns[['Date' in data['train'].columns]]"
   ]
  },
  {
   "cell_type": "code",
   "execution_count": null,
   "metadata": {
    "collapsed": true
   },
   "outputs": [],
   "source": []
  }
 ],
 "metadata": {
  "anaconda-cloud": {},
  "kernelspec": {
   "display_name": "Python [conda root]",
   "language": "python",
   "name": "conda-root-py"
  },
  "language_info": {
   "codemirror_mode": {
    "name": "ipython",
    "version": 2
   },
   "file_extension": ".py",
   "mimetype": "text/x-python",
   "name": "python",
   "nbconvert_exporter": "python",
   "pygments_lexer": "ipython2",
   "version": "2.7.12"
  }
 },
 "nbformat": 4,
 "nbformat_minor": 2
}
