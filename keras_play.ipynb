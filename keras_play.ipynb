{
 "cells": [
  {
   "cell_type": "markdown",
   "metadata": {},
   "source": [
    "# Play with keras model"
   ]
  },
  {
   "cell_type": "code",
   "execution_count": 1,
   "metadata": {
    "collapsed": false
   },
   "outputs": [
    {
     "name": "stdout",
     "output_type": "stream",
     "text": [
      "Populating the interactive namespace from numpy and matplotlib\n"
     ]
    },
    {
     "name": "stderr",
     "output_type": "stream",
     "text": [
      "Using TensorFlow backend.\n",
      "//anaconda/lib/python2.7/site-packages/sklearn/cross_validation.py:44: DeprecationWarning: This module was deprecated in version 0.18 in favor of the model_selection module into which all the refactored classes and functions are moved. Also note that the interface of the new CV iterators are different from that of this module. This module will be removed in 0.20.\n",
      "  \"This module will be removed in 0.20.\", DeprecationWarning)\n"
     ]
    },
    {
     "data": {
      "text/plain": [
       "'\\n    This demonstrates how to reach a 0.80 ROC AUC score (local 4-fold validation)\\n    in the Kaggle Nile virus prediction challenge. \\n\\n    The model trains in a few seconds on CPU.\\n'"
      ]
     },
     "execution_count": 1,
     "metadata": {},
     "output_type": "execute_result"
    }
   ],
   "source": [
    "%pylab inline\n",
    "import numpy as np\n",
    "import csv\n",
    "from keras.models import Sequential\n",
    "from keras.layers.core import Dense, Dropout, Activation\n",
    "from keras.utils import np_utils\n",
    "from sklearn import metrics\n",
    "from sklearn.cross_validation import KFold\n",
    "from sklearn.preprocessing import StandardScaler\n",
    "from sklearn import utils\n",
    "from preprocess import loadPreData\n",
    "from preprocess import scoreAUC\n",
    "subm_folder = './submissions'\n",
    "'''\n",
    "    This demonstrates how to reach a 0.80 ROC AUC score (local 4-fold validation)\n",
    "    in the Kaggle Nile virus prediction challenge. \n",
    "\n",
    "    The model trains in a few seconds on CPU.\n",
    "'''"
   ]
  },
  {
   "cell_type": "code",
   "execution_count": 2,
   "metadata": {
    "collapsed": false
   },
   "outputs": [
    {
     "name": "stdout",
     "output_type": "stream",
     "text": [
      "Index([u'Address', u'Species', u'Block', u'Street', u'Trap',\n",
      "       u'AddressNumberAndStreet', u'Latitude', u'Longitude',\n",
      "       u'AddressAccuracy', u'NumMosquitos', u'WnvPresent'],\n",
      "      dtype='object')\n",
      "Index([u'Id', u'Address', u'Species', u'Block', u'Street', u'Trap',\n",
      "       u'AddressNumberAndStreet', u'Latitude', u'Longitude',\n",
      "       u'AddressAccuracy'],\n",
      "      dtype='object')\n"
     ]
    }
   ],
   "source": [
    "data = loadPreData(features=True)"
   ]
  },
  {
   "cell_type": "code",
   "execution_count": 33,
   "metadata": {
    "collapsed": true
   },
   "outputs": [],
   "source": [
    "X = data['train'].get_values().astype(float)\n",
    "y = data['labels']\n",
    "Y = np_utils.to_categorical(y)"
   ]
  },
  {
   "cell_type": "code",
   "execution_count": 4,
   "metadata": {
    "collapsed": true
   },
   "outputs": [],
   "source": [
    "input_dim = X.shape[1]\n",
    "output_dim = 2"
   ]
  },
  {
   "cell_type": "code",
   "execution_count": 37,
   "metadata": {
    "collapsed": true
   },
   "outputs": [],
   "source": [
    "def build_model(input_dim, output_dim):\n",
    "    model = Sequential()\n",
    "    model.add(Dense(32, input_dim=input_dim, kernel_initializer='random_uniform'))\n",
    "    model.add(Activation('relu'))\n",
    "    model.add(Dropout(0.5))\n",
    "\n",
    "    model.add(Dense(32, kernel_initializer='random_uniform'))\n",
    "    model.add(Activation('relu'))\n",
    "    model.add(Dropout(0.5))\n",
    "    \n",
    "    model.add(Dense(32, kernel_initializer='random_uniform'))\n",
    "    model.add(Activation('relu'))\n",
    "    model.add(Dropout(0.5))\n",
    "\n",
    "    model.add(Dense(output_dim, kernel_initializer='random_uniform'))\n",
    "\n",
    "    model.add(Activation('softmax'))\n",
    "\n",
    "    model.compile(loss='categorical_crossentropy',\n",
    "              optimizer='adam',\n",
    "              metrics=['accuracy'])\n",
    "    return model"
   ]
  },
  {
   "cell_type": "code",
   "execution_count": 8,
   "metadata": {
    "collapsed": false
   },
   "outputs": [],
   "source": [
    "def testModel():    \n",
    "    def logit(x):\n",
    "        return 1/(1+np.exp(-x))\n",
    "\n",
    "    X = (np.random.rand(5000,5))\n",
    "    covs = np.tile(100.*(1.-2.*np.random.rand(5)),(5000,1))\n",
    "    y = np.sum(X*covs,axis=1)\n",
    "\n",
    "    y =  (logit(y)>0.5).astype(float)\n",
    "    print y.shape\n",
    "    y = np_utils.to_categorical(y)\n",
    "    \n",
    "    X_valid = np.random.rand(1000,5)\n",
    "    \n",
    "    y_valid = np.sum(covs[:1000,:]*X_valid,axis=1)\n",
    "    y_valid =  (logit(y_valid)>0.5).astype(float)\n",
    "    y_valid = np_utils.to_categorical(y_valid)\n",
    "    \n",
    "    model = build_model(5, 2)\n",
    "    print 'Data input shape {}, data output shape {}'.format(X.shape,y.shape)\n",
    "    model.fit(X, y, nb_epoch=10, batch_size=32, validation_data=(X_valid, y_valid), verbose=True)\n",
    "    return {'model':model,'X_valid':X_valid,'y_valid':y_valid,'X_train':X,'y_train':y}"
   ]
  },
  {
   "cell_type": "code",
   "execution_count": 9,
   "metadata": {
    "collapsed": false
   },
   "outputs": [
    {
     "name": "stdout",
     "output_type": "stream",
     "text": [
      "(5000,)\n",
      "Data input shape (5000, 5), data output shape (5000, 2)\n",
      "Train on 5000 samples, validate on 1000 samples\n",
      "Epoch 1/10\n",
      "5000/5000 [==============================] - 0s - loss: 0.5671 - acc: 0.6982 - val_loss: 0.3011 - val_acc: 0.8710\n",
      "Epoch 2/10\n",
      "5000/5000 [==============================] - 0s - loss: 0.2119 - acc: 0.9352 - val_loss: 0.1000 - val_acc: 0.9950\n",
      "Epoch 3/10\n",
      "5000/5000 [==============================] - 0s - loss: 0.1183 - acc: 0.9616 - val_loss: 0.0613 - val_acc: 0.9940\n",
      "Epoch 4/10\n",
      "5000/5000 [==============================] - 0s - loss: 0.0787 - acc: 0.9754 - val_loss: 0.0470 - val_acc: 0.9900\n",
      "Epoch 5/10\n",
      "5000/5000 [==============================] - 0s - loss: 0.0648 - acc: 0.9778 - val_loss: 0.0394 - val_acc: 0.9890\n",
      "Epoch 6/10\n",
      "5000/5000 [==============================] - 0s - loss: 0.0587 - acc: 0.9780 - val_loss: 0.0379 - val_acc: 0.9820\n",
      "Epoch 7/10\n",
      "5000/5000 [==============================] - 0s - loss: 0.0488 - acc: 0.9822 - val_loss: 0.0358 - val_acc: 0.9870\n",
      "Epoch 8/10\n",
      "5000/5000 [==============================] - 0s - loss: 0.0461 - acc: 0.9818 - val_loss: 0.0495 - val_acc: 0.9750\n",
      "Epoch 9/10\n",
      "5000/5000 [==============================] - 0s - loss: 0.0446 - acc: 0.9836 - val_loss: 0.0273 - val_acc: 0.9880\n",
      "Epoch 10/10\n",
      "5000/5000 [==============================] - 0s - loss: 0.0451 - acc: 0.9844 - val_loss: 0.0293 - val_acc: 0.9830\n"
     ]
    }
   ],
   "source": [
    "res = testModel()"
   ]
  },
  {
   "cell_type": "code",
   "execution_count": 31,
   "metadata": {
    "collapsed": false
   },
   "outputs": [
    {
     "name": "stdout",
     "output_type": "stream",
     "text": [
      "  32/1000 [..............................] - ETA: 0s"
     ]
    },
    {
     "data": {
      "image/png": "[encoded data removed]",
      "text/plain": [
       "<matplotlib.figure.Figure at 0x1059d0090>"
      ]
     },
     "metadata": {},
     "output_type": "display_data"
    }
   ],
   "source": [
    "model = res['model']\n",
    "X_train,X_test = res['X_train'],res['X_valid']\n",
    "y_train,y_test = res['y_train'],res['y_valid']\n",
    "y_train,y_test = y_train[:,1].astype(bool),y_test[:,1].astype(bool)\n",
    "probs = model.predict_proba(X_train)\n",
    "auc = scoreAUC(y_train,probs)\n",
    "plt.plot(auc['fpr'],auc['tpr'],label='Train');\n",
    "\n",
    "probs = model.predict_proba(X_test)\n",
    "auc = scoreAUC(y_test,probs)\n",
    "plt.plot(auc['fpr'],auc['tpr'],label='Validation');\n",
    "\n",
    "plt.legend();\n",
    "\n",
    "plt.plot([0,1.],[0,1.1],'k--');\n",
    "plt.xlabel('False positive rate');\n",
    "plt.ylabel('True positive rate');\n",
    "\n",
    "\n",
    "plt.title('AUC: {:.3f}'.format(auc['score']));"
   ]
  },
  {
   "cell_type": "code",
   "execution_count": null,
   "metadata": {
    "collapsed": false
   },
   "outputs": [],
   "source": []
  },
  {
   "cell_type": "code",
   "execution_count": 9,
   "metadata": {
    "collapsed": false
   },
   "outputs": [
    {
     "name": "stdout",
     "output_type": "stream",
     "text": [
      "------------------------------------------------------------\n",
      "('Fold', 0)\n",
      "------------------------------------------------------------\n",
      "fold has 366.0 WNV present\n",
      "Class weight: [  0.52435778  10.7636612 ]\n",
      "Building model...\n",
      "Training model...\n",
      "Train on 7879 samples, validate on 2627 samples\n",
      "Epoch 1/20\n",
      "7879/7879 [==============================] - 1s - loss: 0.2530 - acc: 0.9461 - val_loss: 0.2525 - val_acc: 0.9296\n",
      "Epoch 2/20\n",
      "7879/7879 [==============================] - 0s - loss: 0.2154 - acc: 0.9535 - val_loss: 0.2528 - val_acc: 0.9296\n",
      "Epoch 3/20\n",
      "7879/7879 [==============================] - 0s - loss: 0.2041 - acc: 0.9535 - val_loss: 0.2610 - val_acc: 0.9296\n",
      "Epoch 4/20\n",
      "7879/7879 [==============================] - 0s - loss: 0.2035 - acc: 0.9535 - val_loss: 0.2632 - val_acc: 0.9296\n",
      "Epoch 5/20\n",
      "7879/7879 [==============================] - 0s - loss: 0.1943 - acc: 0.9535 - val_loss: 0.2814 - val_acc: 0.9296\n",
      "Epoch 6/20\n",
      "7879/7879 [==============================] - 0s - loss: 0.1974 - acc: 0.9535 - val_loss: 0.2541 - val_acc: 0.9296\n",
      "Epoch 7/20\n",
      "7879/7879 [==============================] - 0s - loss: 0.1898 - acc: 0.9535 - val_loss: 0.2536 - val_acc: 0.9296\n",
      "Epoch 8/20\n",
      "7879/7879 [==============================] - 0s - loss: 0.1949 - acc: 0.9535 - val_loss: 0.2453 - val_acc: 0.9296\n",
      "Epoch 9/20\n",
      "7879/7879 [==============================] - 0s - loss: 0.1855 - acc: 0.9535 - val_loss: 0.2590 - val_acc: 0.9296\n",
      "Epoch 10/20\n",
      "7879/7879 [==============================] - 0s - loss: 0.1862 - acc: 0.9535 - val_loss: 0.2474 - val_acc: 0.9296\n",
      "Epoch 11/20\n",
      "7879/7879 [==============================] - 0s - loss: 0.1831 - acc: 0.9535 - val_loss: 0.2404 - val_acc: 0.9296\n",
      "Epoch 12/20\n",
      "7879/7879 [==============================] - 0s - loss: 0.1847 - acc: 0.9535 - val_loss: 0.2388 - val_acc: 0.9296\n",
      "Epoch 13/20\n",
      "7879/7879 [==============================] - 1s - loss: 0.1830 - acc: 0.9535 - val_loss: 0.2461 - val_acc: 0.9296\n",
      "Epoch 14/20\n",
      "7879/7879 [==============================] - 0s - loss: 0.1828 - acc: 0.9535 - val_loss: 0.2446 - val_acc: 0.9296\n",
      "Epoch 15/20\n",
      "7879/7879 [==============================] - 0s - loss: 0.1808 - acc: 0.9535 - val_loss: 0.2840 - val_acc: 0.9296\n",
      "Epoch 16/20\n",
      "7879/7879 [==============================] - 0s - loss: 0.1812 - acc: 0.9535 - val_loss: 0.2447 - val_acc: 0.9296\n",
      "Epoch 17/20\n",
      "7879/7879 [==============================] - 0s - loss: 0.1812 - acc: 0.9535 - val_loss: 0.2457 - val_acc: 0.9296\n",
      "Epoch 18/20\n",
      "7879/7879 [==============================] - 0s - loss: 0.1786 - acc: 0.9535 - val_loss: 0.2464 - val_acc: 0.9296\n",
      "Epoch 19/20\n",
      "7879/7879 [==============================] - 0s - loss: 0.1806 - acc: 0.9535 - val_loss: 0.2433 - val_acc: 0.9296\n",
      "Epoch 20/20\n",
      "7879/7879 [==============================] - 0s - loss: 0.1795 - acc: 0.9535 - val_loss: 0.2438 - val_acc: 0.9296\n",
      "  32/2627 [..............................] - ETA: 1s('ROC:', 0.63528344068884601)\n",
      "------------------------------------------------------------\n",
      "('Fold', 1)\n",
      "------------------------------------------------------------\n",
      "fold has 495.0 WNV present\n",
      "Class weight: [ 0.53351842  7.95858586]\n",
      "Building model...\n",
      "Training model...\n",
      "Train on 7879 samples, validate on 2627 samples\n",
      "Epoch 1/20\n",
      "7879/7879 [==============================] - 1s - loss: 0.3017 - acc: 0.9279 - val_loss: 0.1413 - val_acc: 0.9787\n",
      "Epoch 2/20\n",
      "7879/7879 [==============================] - 0s - loss: 0.2632 - acc: 0.9372 - val_loss: 0.1714 - val_acc: 0.9787\n",
      "Epoch 3/20\n",
      "7879/7879 [==============================] - 0s - loss: 0.2541 - acc: 0.9372 - val_loss: 0.1623 - val_acc: 0.9787\n",
      "Epoch 4/20\n",
      "7879/7879 [==============================] - 0s - loss: 0.2471 - acc: 0.9372 - val_loss: 0.1489 - val_acc: 0.9787\n",
      "Epoch 5/20\n",
      "7879/7879 [==============================] - 0s - loss: 0.2404 - acc: 0.9372 - val_loss: 0.1472 - val_acc: 0.9787\n",
      "Epoch 6/20\n",
      "7879/7879 [==============================] - 0s - loss: 0.2343 - acc: 0.9372 - val_loss: 0.1217 - val_acc: 0.9787\n",
      "Epoch 7/20\n",
      "7879/7879 [==============================] - 0s - loss: 0.2343 - acc: 0.9372 - val_loss: 0.1142 - val_acc: 0.9787\n",
      "Epoch 8/20\n",
      "7879/7879 [==============================] - 0s - loss: 0.2329 - acc: 0.9372 - val_loss: 0.1245 - val_acc: 0.9787\n",
      "Epoch 9/20\n",
      "7879/7879 [==============================] - 0s - loss: 0.2303 - acc: 0.9372 - val_loss: 0.1192 - val_acc: 0.9787\n",
      "Epoch 10/20\n",
      "7879/7879 [==============================] - 0s - loss: 0.2319 - acc: 0.9372 - val_loss: 0.1079 - val_acc: 0.9787\n",
      "Epoch 11/20\n",
      "7879/7879 [==============================] - 0s - loss: 0.2293 - acc: 0.9372 - val_loss: 0.1162 - val_acc: 0.9787\n",
      "Epoch 12/20\n",
      "7879/7879 [==============================] - 0s - loss: 0.2247 - acc: 0.9372 - val_loss: 0.1035 - val_acc: 0.9787\n",
      "Epoch 13/20\n",
      "7879/7879 [==============================] - 0s - loss: 0.2247 - acc: 0.9372 - val_loss: 0.1059 - val_acc: 0.9787\n",
      "Epoch 14/20\n",
      "7879/7879 [==============================] - 0s - loss: 0.2251 - acc: 0.9372 - val_loss: 0.1075 - val_acc: 0.9787\n",
      "Epoch 15/20\n",
      "7879/7879 [==============================] - 0s - loss: 0.2302 - acc: 0.9372 - val_loss: 0.0993 - val_acc: 0.9787\n",
      "Epoch 16/20\n",
      "7879/7879 [==============================] - 0s - loss: 0.2294 - acc: 0.9372 - val_loss: 0.1075 - val_acc: 0.9787\n",
      "Epoch 17/20\n",
      "7879/7879 [==============================] - 0s - loss: 0.2274 - acc: 0.9372 - val_loss: 0.0994 - val_acc: 0.9787\n",
      "Epoch 18/20\n",
      "7879/7879 [==============================] - 1s - loss: 0.2276 - acc: 0.9372 - val_loss: 0.1053 - val_acc: 0.9787\n",
      "Epoch 19/20\n",
      "7879/7879 [==============================] - 0s - loss: 0.2278 - acc: 0.9372 - val_loss: 0.1084 - val_acc: 0.9787\n",
      "Epoch 20/20\n",
      "7879/7879 [==============================] - 0s - loss: 0.2291 - acc: 0.9372 - val_loss: 0.1181 - val_acc: 0.9787\n",
      "2624/2627 [============================>.] - ETA: 0s('ROC:', 0.67165360893482251)\n",
      "------------------------------------------------------------\n",
      "('Fold', 2)\n",
      "------------------------------------------------------------\n",
      "fold has 489.0 WNV present\n",
      "Class weight: [ 0.53308077  8.05725971]\n",
      "Building model...\n",
      "Training model...\n",
      "Train on 7880 samples, validate on 2626 samples\n",
      "Epoch 1/20\n",
      "7880/7880 [==============================] - 1s - loss: 0.2748 - acc: 0.9339 - val_loss: 0.1682 - val_acc: 0.9764\n",
      "Epoch 2/20\n",
      "7880/7880 [==============================] - 0s - loss: 0.2560 - acc: 0.9379 - val_loss: 0.1242 - val_acc: 0.9764\n",
      "Epoch 3/20\n",
      "7880/7880 [==============================] - 0s - loss: 0.2491 - acc: 0.9379 - val_loss: 0.1647 - val_acc: 0.9764\n",
      "Epoch 4/20\n",
      "7880/7880 [==============================] - 0s - loss: 0.2447 - acc: 0.9379 - val_loss: 0.1949 - val_acc: 0.9764\n",
      "Epoch 5/20\n",
      "7880/7880 [==============================] - 0s - loss: 0.2440 - acc: 0.9379 - val_loss: 0.1870 - val_acc: 0.9764\n",
      "Epoch 6/20\n",
      "7880/7880 [==============================] - 0s - loss: 0.2357 - acc: 0.9379 - val_loss: 0.1545 - val_acc: 0.9764\n",
      "Epoch 7/20\n",
      "7880/7880 [==============================] - 0s - loss: 0.2294 - acc: 0.9379 - val_loss: 0.1491 - val_acc: 0.9764\n",
      "Epoch 8/20\n",
      "7880/7880 [==============================] - 0s - loss: 0.2277 - acc: 0.9379 - val_loss: 0.1408 - val_acc: 0.9764\n",
      "Epoch 9/20\n",
      "7880/7880 [==============================] - 0s - loss: 0.2292 - acc: 0.9379 - val_loss: 0.1273 - val_acc: 0.9764\n",
      "Epoch 10/20\n",
      "7880/7880 [==============================] - 0s - loss: 0.2300 - acc: 0.9379 - val_loss: 0.1372 - val_acc: 0.9764\n",
      "Epoch 11/20\n",
      "7880/7880 [==============================] - 0s - loss: 0.2354 - acc: 0.9379 - val_loss: 0.1312 - val_acc: 0.9764\n",
      "Epoch 12/20\n",
      "7880/7880 [==============================] - 0s - loss: 0.2345 - acc: 0.9379 - val_loss: 0.1292 - val_acc: 0.9764\n",
      "Epoch 13/20\n",
      "7880/7880 [==============================] - 0s - loss: 0.2347 - acc: 0.9379 - val_loss: 0.1279 - val_acc: 0.9764\n",
      "Epoch 14/20\n",
      "7880/7880 [==============================] - 0s - loss: 0.2331 - acc: 0.9379 - val_loss: 0.1290 - val_acc: 0.9764\n",
      "Epoch 15/20\n",
      "7880/7880 [==============================] - 0s - loss: 0.2336 - acc: 0.9379 - val_loss: 0.1285 - val_acc: 0.9764\n",
      "Epoch 16/20\n",
      "7880/7880 [==============================] - 0s - loss: 0.2341 - acc: 0.9379 - val_loss: 0.1272 - val_acc: 0.9764\n",
      "Epoch 17/20\n",
      "7880/7880 [==============================] - 0s - loss: 0.2330 - acc: 0.9379 - val_loss: 0.1181 - val_acc: 0.9764\n",
      "Epoch 18/20\n",
      "7880/7880 [==============================] - 0s - loss: 0.2284 - acc: 0.9379 - val_loss: 0.1339 - val_acc: 0.9764\n",
      "Epoch 19/20\n",
      "7880/7880 [==============================] - 0s - loss: 0.2274 - acc: 0.9379 - val_loss: 0.1137 - val_acc: 0.9764\n",
      "Epoch 20/20\n",
      "7880/7880 [==============================] - 0s - loss: 0.2306 - acc: 0.9379 - val_loss: 0.1184 - val_acc: 0.9764\n",
      "  32/2626 [..............................] - ETA: 3s('ROC:', 0.55731342156912078)\n",
      "------------------------------------------------------------\n",
      "('Fold', 3)\n",
      "------------------------------------------------------------\n",
      "fold has 303.0 WNV present\n",
      "Class weight: [  0.51999472  13.00330033]\n",
      "Building model...\n",
      "Training model...\n",
      "Train on 7880 samples, validate on 2626 samples\n",
      "Epoch 1/20\n",
      "7880/7880 [==============================] - 1s - loss: 0.2312 - acc: 0.9457 - val_loss: 0.3268 - val_acc: 0.9056\n",
      "Epoch 2/20\n",
      "7880/7880 [==============================] - 0s - loss: 0.1929 - acc: 0.9615 - val_loss: 0.3086 - val_acc: 0.9056\n",
      "Epoch 3/20\n",
      "7880/7880 [==============================] - 0s - loss: 0.1850 - acc: 0.9615 - val_loss: 0.3281 - val_acc: 0.9056\n",
      "Epoch 4/20\n",
      "7880/7880 [==============================] - 0s - loss: 0.1868 - acc: 0.9615 - val_loss: 0.3438 - val_acc: 0.9056\n",
      "Epoch 5/20\n",
      "7880/7880 [==============================] - 0s - loss: 0.1797 - acc: 0.9615 - val_loss: 0.3233 - val_acc: 0.9056\n",
      "Epoch 6/20\n",
      "7880/7880 [==============================] - 0s - loss: 0.1703 - acc: 0.9615 - val_loss: 0.3336 - val_acc: 0.9056\n",
      "Epoch 7/20\n",
      "7880/7880 [==============================] - 0s - loss: 0.1647 - acc: 0.9615 - val_loss: 0.3051 - val_acc: 0.9056\n",
      "Epoch 8/20\n",
      "7880/7880 [==============================] - 0s - loss: 0.1641 - acc: 0.9615 - val_loss: 0.3222 - val_acc: 0.9056\n",
      "Epoch 9/20\n",
      "7880/7880 [==============================] - 0s - loss: 0.1629 - acc: 0.9615 - val_loss: 0.3118 - val_acc: 0.9056\n",
      "Epoch 10/20\n",
      "7880/7880 [==============================] - 1s - loss: 0.1624 - acc: 0.9615 - val_loss: 0.3182 - val_acc: 0.9056\n",
      "Epoch 11/20\n",
      "7880/7880 [==============================] - 0s - loss: 0.1579 - acc: 0.9615 - val_loss: 0.3079 - val_acc: 0.9056\n",
      "Epoch 12/20\n",
      "7880/7880 [==============================] - 1s - loss: 0.1634 - acc: 0.9615 - val_loss: 0.3267 - val_acc: 0.9056\n",
      "Epoch 13/20\n",
      "7880/7880 [==============================] - 0s - loss: 0.1608 - acc: 0.9615 - val_loss: 0.3240 - val_acc: 0.9056\n",
      "Epoch 14/20\n",
      "7880/7880 [==============================] - 0s - loss: 0.1590 - acc: 0.9615 - val_loss: 0.3271 - val_acc: 0.9056\n",
      "Epoch 15/20\n",
      "7880/7880 [==============================] - 1s - loss: 0.1599 - acc: 0.9615 - val_loss: 0.3297 - val_acc: 0.9056\n",
      "Epoch 16/20\n",
      "7880/7880 [==============================] - 1s - loss: 0.1618 - acc: 0.9615 - val_loss: 0.3334 - val_acc: 0.9056\n",
      "Epoch 17/20\n",
      "7880/7880 [==============================] - 1s - loss: 0.1563 - acc: 0.9615 - val_loss: 0.3291 - val_acc: 0.9056\n",
      "Epoch 18/20\n",
      "7880/7880 [==============================] - 1s - loss: 0.1573 - acc: 0.9615 - val_loss: 0.3190 - val_acc: 0.9056\n",
      "Epoch 19/20\n",
      "7880/7880 [==============================] - 0s - loss: 0.1563 - acc: 0.9615 - val_loss: 0.3270 - val_acc: 0.9056\n",
      "Epoch 20/20\n",
      "7880/7880 [==============================] - 0s - loss: 0.1567 - acc: 0.9615 - val_loss: 0.3269 - val_acc: 0.9056\n",
      "1952/2626 [=====================>........] - ETA: 0s('ROC:', 0.70594953064380483)\n",
      "('Average ROC:', 0.64255000045914856)\n"
     ]
    }
   ],
   "source": [
    "#class_weight = {0 : 1.,1: 50.}\n",
    "\n",
    "nb_folds = 4\n",
    "kfolds = KFold(len(y), nb_folds)\n",
    "av_roc = 0.\n",
    "f = 0\n",
    "for train, valid in kfolds:\n",
    "    print('---'*20)\n",
    "    print('Fold', f)\n",
    "    print('---'*20)\n",
    "    f += 1\n",
    "    X_train = X[train]\n",
    "    X_valid = X[valid]\n",
    "    Y_train = Y[train]\n",
    "    Y_valid = Y[valid]\n",
    "    y_valid = y[valid]\n",
    "    print(\"fold has {} WNV present\".format(np.sum(Y_train[:,1])))\n",
    "    class_weight = utils.class_weight.compute_class_weight('balanced', np.unique(y[train]), y[train])\n",
    "    print(\"Class weight: {}\".format(class_weight))\n",
    "    print(\"Building model...\")\n",
    "    model = build_model(input_dim, output_dim)\n",
    "\n",
    "    print(\"Training model...\")\n",
    "\n",
    "    model.fit(X_train, Y_train, epochs=20, batch_size=32, validation_data=(X_valid, Y_valid), \n",
    "              class_weight=class_weight,verbose=True)\n",
    "    valid_preds = model.predict_proba(X_valid)\n",
    "    valid_preds = valid_preds[:, 1]\n",
    "    roc = metrics.roc_auc_score(y_valid, valid_preds)\n",
    "    print(\"ROC:\", roc)\n",
    "    av_roc += roc\n",
    "\n",
    "print('Average ROC:', av_roc/nb_folds)"
   ]
  },
  {
   "cell_type": "code",
   "execution_count": 10,
   "metadata": {
    "collapsed": false
   },
   "outputs": [
    {
     "name": "stdout",
     "output_type": "stream",
     "text": [
      "1888/2626 [====================>.........] - ETA: 0s"
     ]
    },
    {
     "data": {
      "text/plain": [
       "101.35306"
      ]
     },
     "execution_count": 10,
     "metadata": {},
     "output_type": "execute_result"
    }
   ],
   "source": [
    "np.sum(model.predict_proba(X_valid)[:,1])"
   ]
  },
  {
   "cell_type": "code",
   "execution_count": 38,
   "metadata": {
    "collapsed": false
   },
   "outputs": [
    {
     "name": "stdout",
     "output_type": "stream",
     "text": [
      "Epoch 1/20\n",
      "10506/10506 [==============================] - 1s - loss: 0.2552 - acc: 0.9446     \n",
      "Epoch 2/20\n",
      "10506/10506 [==============================] - 1s - loss: 0.2316 - acc: 0.9476     \n",
      "Epoch 3/20\n",
      "10506/10506 [==============================] - 1s - loss: 0.2163 - acc: 0.9476     \n",
      "Epoch 4/20\n",
      "10506/10506 [==============================] - 1s - loss: 0.2130 - acc: 0.9476     \n",
      "Epoch 5/20\n",
      "10506/10506 [==============================] - 1s - loss: 0.2071 - acc: 0.9476     \n",
      "Epoch 6/20\n",
      "10506/10506 [==============================] - 1s - loss: 0.2047 - acc: 0.9476     \n",
      "Epoch 7/20\n",
      "10506/10506 [==============================] - 1s - loss: 0.2041 - acc: 0.9476     \n",
      "Epoch 8/20\n",
      "10506/10506 [==============================] - 1s - loss: 0.2034 - acc: 0.9476     \n",
      "Epoch 9/20\n",
      "10506/10506 [==============================] - 1s - loss: 0.1992 - acc: 0.9476     \n",
      "Epoch 10/20\n",
      "10506/10506 [==============================] - 1s - loss: 0.1980 - acc: 0.9476     \n",
      "Epoch 11/20\n",
      "10506/10506 [==============================] - 1s - loss: 0.1996 - acc: 0.9476     \n",
      "Epoch 12/20\n",
      "10506/10506 [==============================] - 1s - loss: 0.1965 - acc: 0.9476     \n",
      "Epoch 13/20\n",
      "10506/10506 [==============================] - 1s - loss: 0.1993 - acc: 0.9476     \n",
      "Epoch 14/20\n",
      "10506/10506 [==============================] - 1s - loss: 0.1965 - acc: 0.9476     \n",
      "Epoch 15/20\n",
      "10506/10506 [==============================] - 1s - loss: 0.1971 - acc: 0.9476     \n",
      "Epoch 16/20\n",
      "10506/10506 [==============================] - 1s - loss: 0.1976 - acc: 0.9476     \n",
      "Epoch 17/20\n",
      "10506/10506 [==============================] - 1s - loss: 0.1976 - acc: 0.9476     \n",
      "Epoch 18/20\n",
      "10506/10506 [==============================] - 1s - loss: 0.1995 - acc: 0.9476     \n",
      "Epoch 19/20\n",
      "10506/10506 [==============================] - 1s - loss: 0.1988 - acc: 0.9476     \n",
      "Epoch 20/20\n",
      "10506/10506 [==============================] - 1s - loss: 0.1983 - acc: 0.9476     \n"
     ]
    },
    {
     "data": {
      "text/plain": [
       "<keras.callbacks.History at 0x11bf77110>"
      ]
     },
     "execution_count": 38,
     "metadata": {},
     "output_type": "execute_result"
    }
   ],
   "source": [
    "class_weight = utils.class_weight.compute_class_weight('balanced', np.unique(y), y)\n",
    "Y = np_utils.to_categorical(y)\n",
    "model = build_model(input_dim, output_dim)\n",
    "model.fit(X, Y, nb_epoch=20, batch_size=32, verbose=1,class_weight=class_weight)"
   ]
  },
  {
   "cell_type": "code",
   "execution_count": 39,
   "metadata": {
    "collapsed": false
   },
   "outputs": [
    {
     "name": "stdout",
     "output_type": "stream",
     "text": [
      " 9600/10506 [==========================>...] - ETA: 0s"
     ]
    },
    {
     "data": {
      "image/png": "[encoded data removed]",
      "text/plain": [
       "<matplotlib.figure.Figure at 0x11e978e90>"
      ]
     },
     "metadata": {},
     "output_type": "display_data"
    }
   ],
   "source": [
    "probs = model.predict_proba(X)\n",
    "auc = scoreAUC(y,probs)\n",
    "plt.plot(auc['fpr'],auc['tpr'],label='Train');\n",
    "\n",
    "\n",
    "\n",
    "\n",
    "plt.legend();\n",
    "\n",
    "plt.plot([0,1.],[0,1.],'k--');\n",
    "plt.xlabel('False positive rate');\n",
    "plt.ylabel('True positive rate');\n",
    "\n",
    "\n",
    "plt.title('AUC: {:.3f}'.format(auc['score']));"
   ]
  },
  {
   "cell_type": "code",
   "execution_count": 12,
   "metadata": {
    "collapsed": false
   },
   "outputs": [],
   "source": [
    "X_sub = data['test'].get_values()"
   ]
  },
  {
   "cell_type": "code",
   "execution_count": 13,
   "metadata": {
    "collapsed": false
   },
   "outputs": [
    {
     "name": "stdout",
     "output_type": "stream",
     "text": [
      "115968/116293 [============================>.] - ETA: 0s"
     ]
    },
    {
     "data": {
      "text/plain": [
       "array([ 0.93258017,  0.93265349,  0.93250686, ...,  0.9411791 ,\n",
       "        0.94191837,  0.93935519], dtype=float32)"
      ]
     },
     "execution_count": 13,
     "metadata": {},
     "output_type": "execute_result"
    }
   ],
   "source": [
    "subs = model.predict_proba(X_sub)\n"
   ]
  },
  {
   "cell_type": "code",
   "execution_count": 14,
   "metadata": {
    "collapsed": false
   },
   "outputs": [
    {
     "data": {
      "text/plain": [
       "0.052446221206929371"
      ]
     },
     "execution_count": 14,
     "metadata": {},
     "output_type": "execute_result"
    }
   ],
   "source": [
    "np.sum(data['labels']==1)/float(data['labels'].size)"
   ]
  },
  {
   "cell_type": "code",
   "execution_count": 18,
   "metadata": {
    "collapsed": false
   },
   "outputs": [
    {
     "data": {
      "image/png": "[encoded data removed]",
      "text/plain": [
       "<matplotlib.figure.Figure at 0x12a4b32d0>"
      ]
     },
     "metadata": {},
     "output_type": "display_data"
    }
   ],
   "source": [
    "plt.hist(subs[:,1]);"
   ]
  },
  {
   "cell_type": "code",
   "execution_count": 23,
   "metadata": {
    "collapsed": false
   },
   "outputs": [],
   "source": [
    "#prepare submission\n",
    "import pandas as pd\n",
    "import os.path\n",
    "ss = pd.DataFrame(columns=['Id','WnvPresent'])\n",
    "ss['WnvPresent'] = pd.Series(subs[:,1])\n",
    "ss['Id'] = data['test'].index + 1\n",
    "ss.to_csv(os.path.join(subm_folder, 'keras_submission_1.csv'), index=False)"
   ]
  },
  {
   "cell_type": "markdown",
   "metadata": {
    "collapsed": true
   },
   "source": [
    "gives a score of around 0.55"
   ]
  },
  {
   "cell_type": "code",
   "execution_count": null,
   "metadata": {
    "collapsed": true
   },
   "outputs": [],
   "source": []
  }
 ],
 "metadata": {
  "anaconda-cloud": {},
  "kernelspec": {
   "display_name": "Python [conda root]",
   "language": "python",
   "name": "conda-root-py"
  },
  "language_info": {
   "codemirror_mode": {
    "name": "ipython",
    "version": 2
   },
   "file_extension": ".py",
   "mimetype": "text/x-python",
   "name": "python",
   "nbconvert_exporter": "python",
   "pygments_lexer": "ipython2",
   "version": "2.7.12"
  }
 },
 "nbformat": 4,
 "nbformat_minor": 2
}
