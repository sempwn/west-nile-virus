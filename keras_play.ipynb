{
 "cells": [
  {
   "cell_type": "markdown",
   "metadata": {},
   "source": [
    "# Play with keras model"
   ]
  },
  {
   "cell_type": "code",
   "execution_count": 27,
   "metadata": {
    "collapsed": false
   },
   "outputs": [
    {
     "name": "stdout",
     "output_type": "stream",
     "text": [
      "Populating the interactive namespace from numpy and matplotlib\n"
     ]
    },
    {
     "name": "stderr",
     "output_type": "stream",
     "text": [
      "//anaconda/lib/python2.7/site-packages/IPython/core/magics/pylab.py:161: UserWarning: pylab import has clobbered these variables: ['f']\n",
      "`%matplotlib` prevents importing * from pylab and numpy\n",
      "  \"\\n`%matplotlib` prevents importing * from pylab and numpy\"\n"
     ]
    },
    {
     "data": {
      "text/plain": [
       "'\\n    This demonstrates how to reach a 0.80 ROC AUC score (local 4-fold validation)\\n    in the Kaggle Nile virus prediction challenge. \\n\\n    The model trains in a few seconds on CPU.\\n'"
      ]
     },
     "execution_count": 27,
     "metadata": {},
     "output_type": "execute_result"
    }
   ],
   "source": [
    "%pylab inline\n",
    "import numpy as np\n",
    "import csv\n",
    "from keras.models import Sequential\n",
    "from keras.layers.core import Dense, Dropout, Activation\n",
    "from keras.utils import np_utils\n",
    "from sklearn import metrics\n",
    "from sklearn.cross_validation import KFold\n",
    "from sklearn.preprocessing import StandardScaler\n",
    "from preprocess import loadPreData\n",
    "\n",
    "'''\n",
    "    This demonstrates how to reach a 0.80 ROC AUC score (local 4-fold validation)\n",
    "    in the Kaggle Nile virus prediction challenge. \n",
    "\n",
    "    The model trains in a few seconds on CPU.\n",
    "'''"
   ]
  },
  {
   "cell_type": "code",
   "execution_count": 4,
   "metadata": {
    "collapsed": false
   },
   "outputs": [
    {
     "name": "stdout",
     "output_type": "stream",
     "text": [
      "Index([u'Address', u'Species', u'Block', u'Street', u'Trap',\n",
      "       u'AddressNumberAndStreet', u'Latitude', u'Longitude',\n",
      "       u'AddressAccuracy', u'NumMosquitos', u'WnvPresent'],\n",
      "      dtype='object')\n",
      "Index([u'Id', u'Address', u'Species', u'Block', u'Street', u'Trap',\n",
      "       u'AddressNumberAndStreet', u'Latitude', u'Longitude',\n",
      "       u'AddressAccuracy'],\n",
      "      dtype='object')\n"
     ]
    }
   ],
   "source": [
    "data = loadPreData()"
   ]
  },
  {
   "cell_type": "code",
   "execution_count": 69,
   "metadata": {
    "collapsed": true
   },
   "outputs": [],
   "source": [
    "X = data['train'].get_values().astype(float)\n",
    "y = data['labels']\n",
    "#y = np.array([y,1-y]).T\n",
    "Y = np_utils.to_categorical(y)"
   ]
  },
  {
   "cell_type": "code",
   "execution_count": 66,
   "metadata": {
    "collapsed": false
   },
   "outputs": [
    {
     "data": {
      "text/plain": [
       "(10506, 2)"
      ]
     },
     "execution_count": 66,
     "metadata": {},
     "output_type": "execute_result"
    }
   ],
   "source": []
  },
  {
   "cell_type": "code",
   "execution_count": 67,
   "metadata": {
    "collapsed": true
   },
   "outputs": [],
   "source": [
    "input_dim = X.shape[1]\n",
    "output_dim = 2"
   ]
  },
  {
   "cell_type": "code",
   "execution_count": 47,
   "metadata": {
    "collapsed": false
   },
   "outputs": [],
   "source": [
    "def scoreAUC(y,probs):\n",
    "    ps = np.linspace(0.,1.,num=100)\n",
    "    prs = []\n",
    "    nrs = []\n",
    "    for p in ps:\n",
    "        preds = probs[:,0]<p\n",
    "        pr = np.sum((y & preds))/float(np.sum(y))\n",
    "        nr = np.sum((1-y & 1-preds))/float(np.sum(1-y))\n",
    "        nrs.append(nr)\n",
    "        prs.append(pr)\n",
    "    xs = 1-np.array(nrs)\n",
    "    ys = np.array(prs)\n",
    "    dxs = xs[1:] - xs[:-1]\n",
    "    ays = .5*(ys[1:] + ys[:-1])\n",
    "    auc = np.sum(ays*dxs)\n",
    "    return {'score':auc,'fpr':xs,'tpr':ys}"
   ]
  },
  {
   "cell_type": "code",
   "execution_count": 77,
   "metadata": {
    "collapsed": true
   },
   "outputs": [],
   "source": [
    "def build_model(input_dim, output_dim):\n",
    "    model = Sequential()\n",
    "    model.add(Dense(16, input_dim=input_dim))\n",
    "    model.add(Activation('relu'))\n",
    "    model.add(Dropout(0.5))\n",
    "\n",
    "    model.add(Dense(16))\n",
    "    model.add(Activation('relu'))\n",
    "    model.add(Dropout(0.5))\n",
    "\n",
    "    model.add(Dense(output_dim))\n",
    "\n",
    "    model.add(Activation('softmax'))\n",
    "\n",
    "    model.compile(loss='categorical_crossentropy',\n",
    "              optimizer='rmsprop',\n",
    "              metrics=['accuracy'])\n",
    "    return model"
   ]
  },
  {
   "cell_type": "code",
   "execution_count": 78,
   "metadata": {
    "collapsed": false
   },
   "outputs": [],
   "source": [
    "def testModel():    \n",
    "    X = np.random.rand(5000,5)\n",
    "    y = (X[:,0]<0.5)*(X[:,1]<0.9)*(X[:,2]<0.85)\n",
    "    X_valid = np.random.rand(1000,5)\n",
    "    y_valid = (X_valid[:,0]<0.5)*(X_valid[:,1]<0.9)*(X_valid[:,2]<0.85)\n",
    "    model = build_model(5, 1)\n",
    "    model.fit(X, y, nb_epoch=10, batch_size=32, validation_data=(X_valid, y_valid), verbose=True)"
   ]
  },
  {
   "cell_type": "code",
   "execution_count": 79,
   "metadata": {
    "collapsed": false
   },
   "outputs": [
    {
     "name": "stdout",
     "output_type": "stream",
     "text": [
      "------------------------------------------------------------\n",
      "('Fold', 0)\n",
      "------------------------------------------------------------\n",
      "Building model...\n",
      "Training model...\n",
      "Train on 7879 samples, validate on 2627 samples\n",
      "Epoch 1/5\n",
      "7879/7879 [==============================] - 2s - loss: 4.5428 - acc: 0.7108 - val_loss: 1.1351 - val_acc: 0.9296\n",
      "Epoch 2/5\n",
      "7879/7879 [==============================] - 0s - loss: 1.8129 - acc: 0.8822 - val_loss: 1.1351 - val_acc: 0.9296\n",
      "Epoch 3/5\n",
      "7879/7879 [==============================] - 0s - loss: 0.9714 - acc: 0.9368 - val_loss: 1.1351 - val_acc: 0.9296\n",
      "Epoch 4/5\n",
      "7879/7879 [==============================] - 0s - loss: 0.8662 - acc: 0.9436 - val_loss: 1.1351 - val_acc: 0.9296\n",
      "Epoch 5/5\n",
      "7879/7879 [==============================] - 0s - loss: 0.8312 - acc: 0.9459 - val_loss: 1.1351 - val_acc: 0.9296\n",
      "1376/2627 [==============>...............] - ETA: 0s ('ROC:', 0.5)\n",
      "------------------------------------------------------------\n",
      "('Fold', 1)\n",
      "------------------------------------------------------------\n",
      "Building model...\n",
      "Training model...\n",
      "Train on 7879 samples, validate on 2627 samples\n",
      "Epoch 1/5\n",
      "7879/7879 [==============================] - 2s - loss: 6.5433 - acc: 0.5766 - val_loss: 0.3436 - val_acc: 0.9787\n",
      "Epoch 2/5\n",
      "7879/7879 [==============================] - 0s - loss: 2.0509 - acc: 0.8539 - val_loss: 0.3436 - val_acc: 0.9787\n",
      "Epoch 3/5\n",
      "7879/7879 [==============================] - 0s - loss: 1.0380 - acc: 0.9279 - val_loss: 0.3436 - val_acc: 0.9787\n",
      "Epoch 4/5\n",
      "7879/7879 [==============================] - 0s - loss: 0.9087 - acc: 0.9358 - val_loss: 0.3436 - val_acc: 0.9787\n",
      "Epoch 5/5\n",
      "7879/7879 [==============================] - 0s - loss: 0.8028 - acc: 0.9367 - val_loss: 0.3436 - val_acc: 0.9787\n",
      "2560/2627 [============================>.] - ETA: 0s('ROC:', 0.5)\n",
      "------------------------------------------------------------\n",
      "('Fold', 2)\n",
      "------------------------------------------------------------\n",
      "Building model...\n",
      "Training model...\n",
      "Train on 7880 samples, validate on 2626 samples\n",
      "Epoch 1/5\n",
      "7880/7880 [==============================] - 2s - loss: 6.8256 - acc: 0.5722 - val_loss: 0.3805 - val_acc: 0.9764\n",
      "Epoch 2/5\n",
      "7880/7880 [==============================] - 1s - loss: 4.0869 - acc: 0.7433 - val_loss: 0.3805 - val_acc: 0.9764\n",
      "Epoch 3/5\n",
      "7880/7880 [==============================] - 0s - loss: 2.6862 - acc: 0.8303 - val_loss: 0.3805 - val_acc: 0.9764\n",
      "Epoch 4/5\n",
      "7880/7880 [==============================] - 0s - loss: 2.0340 - acc: 0.8711 - val_loss: 0.3805 - val_acc: 0.9764\n",
      "Epoch 5/5\n",
      "7880/7880 [==============================] - 0s - loss: 1.6877 - acc: 0.8906 - val_loss: 0.3805 - val_acc: 0.9764\n",
      "1728/2626 [==================>...........] - ETA: 0s ('ROC:', 0.5)\n",
      "------------------------------------------------------------\n",
      "('Fold', 3)\n",
      "------------------------------------------------------------\n",
      "Building model...\n",
      "Training model...\n",
      "Train on 7880 samples, validate on 2626 samples\n",
      "Epoch 1/5\n",
      "7880/7880 [==============================] - 2s - loss: 0.7893 - acc: 0.9486 - val_loss: 1.5222 - val_acc: 0.9056\n",
      "Epoch 2/5\n",
      "7880/7880 [==============================] - 0s - loss: 0.6910 - acc: 0.9557 - val_loss: 1.5222 - val_acc: 0.9056\n",
      "Epoch 3/5\n",
      "7880/7880 [==============================] - 0s - loss: 0.6686 - acc: 0.9574 - val_loss: 1.5222 - val_acc: 0.9056\n",
      "Epoch 4/5\n",
      "7880/7880 [==============================] - 0s - loss: 0.6638 - acc: 0.9580 - val_loss: 1.5222 - val_acc: 0.9056\n",
      "Epoch 5/5\n",
      "7880/7880 [==============================] - 0s - loss: 0.6392 - acc: 0.9590 - val_loss: 1.5222 - val_acc: 0.9056\n",
      "1760/2626 [===================>..........] - ETA: 0s ('ROC:', 0.5)\n",
      "('Average ROC:', 0.5)\n"
     ]
    }
   ],
   "source": [
    "nb_folds = 4\n",
    "kfolds = KFold(len(y), nb_folds)\n",
    "av_roc = 0.\n",
    "f = 0\n",
    "for train, valid in kfolds:\n",
    "    print('---'*20)\n",
    "    print('Fold', f)\n",
    "    print('---'*20)\n",
    "    f += 1\n",
    "    X_train = X[train]\n",
    "    X_valid = X[valid]\n",
    "    Y_train = Y[train]\n",
    "    Y_valid = Y[valid]\n",
    "    y_valid = y[valid]\n",
    "\n",
    "    print(\"Building model...\")\n",
    "    model = build_model(input_dim, output_dim)\n",
    "\n",
    "    print(\"Training model...\")\n",
    "\n",
    "    model.fit(X_train, Y_train, nb_epoch=5, batch_size=32, validation_data=(X_valid, Y_valid), verbose=True)\n",
    "    valid_preds = model.predict_proba(X_valid)\n",
    "    valid_preds = valid_preds[:, 1]\n",
    "    roc = metrics.roc_auc_score(y_valid, valid_preds)\n",
    "    print(\"ROC:\", roc)\n",
    "    av_roc += roc\n",
    "\n",
    "print('Average ROC:', av_roc/nb_folds)"
   ]
  },
  {
   "cell_type": "code",
   "execution_count": 59,
   "metadata": {
    "collapsed": false
   },
   "outputs": [
    {
     "name": "stdout",
     "output_type": "stream",
     "text": [
      "Epoch 1/20\n",
      "10506/10506 [==============================] - 2s - loss: 2.4059 - acc: 0.8463     \n",
      "Epoch 2/20\n",
      "10506/10506 [==============================] - 2s - loss: 0.9775 - acc: 0.9388     \n",
      "Epoch 3/20\n",
      "10506/10506 [==============================] - 2s - loss: 0.8847 - acc: 0.9449     \n",
      "Epoch 4/20\n",
      "10506/10506 [==============================] - 2s - loss: 0.8652 - acc: 0.9461     \n",
      "Epoch 5/20\n",
      "10506/10506 [==============================] - 2s - loss: 0.8561 - acc: 0.9468     \n",
      "Epoch 6/20\n",
      "10506/10506 [==============================] - 2s - loss: 0.8573 - acc: 0.9468     \n",
      "Epoch 7/20\n",
      "10506/10506 [==============================] - 2s - loss: 0.8596 - acc: 0.9465     \n",
      "Epoch 8/20\n",
      "10506/10506 [==============================] - 2s - loss: 0.8519 - acc: 0.9471     \n",
      "Epoch 9/20\n",
      "10506/10506 [==============================] - 2s - loss: 0.8499 - acc: 0.9473     \n",
      "Epoch 10/20\n",
      "10506/10506 [==============================] - 2s - loss: 0.8469 - acc: 0.9475     \n",
      "Epoch 11/20\n",
      "10506/10506 [==============================] - 2s - loss: 0.8510 - acc: 0.9469     \n",
      "Epoch 12/20\n",
      "10506/10506 [==============================] - 2s - loss: 0.8517 - acc: 0.9471     \n",
      "Epoch 13/20\n",
      "10506/10506 [==============================] - 2s - loss: 0.8510 - acc: 0.9472     \n",
      "Epoch 14/20\n",
      "10506/10506 [==============================] - 2s - loss: 0.8456 - acc: 0.9475     \n",
      "Epoch 15/20\n",
      "10506/10506 [==============================] - 2s - loss: 0.8499 - acc: 0.9473     \n",
      "Epoch 16/20\n",
      "10506/10506 [==============================] - 2s - loss: 0.8484 - acc: 0.9474     \n",
      "Epoch 17/20\n",
      "10506/10506 [==============================] - 1s - loss: 0.8469 - acc: 0.9475     \n",
      "Epoch 18/20\n",
      "10506/10506 [==============================] - 2s - loss: 0.8529 - acc: 0.9471     \n",
      "Epoch 19/20\n",
      "10506/10506 [==============================] - 2s - loss: 0.8469 - acc: 0.9475     \n",
      "Epoch 20/20\n",
      "10506/10506 [==============================] - 2s - loss: 0.8478 - acc: 0.9473     \n"
     ]
    },
    {
     "data": {
      "text/plain": [
       "<keras.callbacks.History at 0x13e68fb10>"
      ]
     },
     "execution_count": 59,
     "metadata": {},
     "output_type": "execute_result"
    }
   ],
   "source": [
    "model = build_model(input_dim, output_dim)\n",
    "model.fit(X, y, nb_epoch=20, batch_size=16, verbose=1)"
   ]
  },
  {
   "cell_type": "code",
   "execution_count": null,
   "metadata": {
    "collapsed": true
   },
   "outputs": [],
   "source": []
  }
 ],
 "metadata": {
  "kernelspec": {
   "display_name": "Python [conda root]",
   "language": "python",
   "name": "conda-root-py"
  },
  "language_info": {
   "codemirror_mode": {
    "name": "ipython",
    "version": 2
   },
   "file_extension": ".py",
   "mimetype": "text/x-python",
   "name": "python",
   "nbconvert_exporter": "python",
   "pygments_lexer": "ipython2",
   "version": "2.7.12"
  }
 },
 "nbformat": 4,
 "nbformat_minor": 2
}
